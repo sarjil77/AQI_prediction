{
 "cells": [
  {
   "cell_type": "markdown",
   "id": "21022048",
   "metadata": {},
   "source": [
    "<h1>Forecasting Air Quality in Nairobi: January 2024 Analysis </h1>\n"
   ]
  },
  {
   "cell_type": "code",
   "execution_count": 39,
   "id": "d9043149",
   "metadata": {},
   "outputs": [],
   "source": [
    "import pandas as pd\n",
    "from pprint import PrettyPrinter #used to print data in more human-readable format \n",
    "from pymongo import MongoClient # Importing MongoClient from pymongo for interacting with MongoDB databases\n",
    "import matplotlib.pyplot as plt #for visualization\n",
    "import plotly.express as px #for plots\n",
    "import pytz #library used in working with timezones\n",
    "from sklearn.linear_model import LinearRegression #model which we are going to use\n",
    "from sklearn.metrics import mean_absolute_error #for evaluation"
   ]
  },
  {
   "cell_type": "code",
   "execution_count": 40,
   "id": "af0720c9",
   "metadata": {},
   "outputs": [],
   "source": [
    "# instantiate the pretty printer and giving indent \n",
    "pp = PrettyPrinter(indent = 2)"
   ]
  },
  {
   "cell_type": "markdown",
   "id": "8c84a9ca",
   "metadata": {},
   "source": [
    "<h2> Preparing the data<h2>\n",
    "   "
   ]
  },
  {
   "cell_type": "code",
   "execution_count": 41,
   "id": "4fee6a2f",
   "metadata": {},
   "outputs": [
    {
     "name": "stdout",
     "output_type": "stream",
     "text": [
      "[ {'empty': False, 'name': 'admin', 'sizeOnDisk': 40960},\n",
      "  {'empty': False, 'name': 'air-quality', 'sizeOnDisk': 47640576},\n",
      "  {'empty': False, 'name': 'config', 'sizeOnDisk': 110592},\n",
      "  {'empty': False, 'name': 'local', 'sizeOnDisk': 73728}]\n"
     ]
    }
   ],
   "source": [
    "# creating the client to connect to db \n",
    "client = MongoClient(host = \"localhost\", port = 27017)\n",
    "# printing the list of db available at client\n",
    "pp.pprint(list(client.list_databases()))"
   ]
  },
  {
   "cell_type": "markdown",
   "id": "db0ae667",
   "metadata": {},
   "source": [
    "<h3> Assigning the air-quality database to db </h3>"
   ]
  },
  {
   "cell_type": "code",
   "execution_count": 42,
   "id": "3839fd5c",
   "metadata": {},
   "outputs": [],
   "source": [
    "db = client[\"air-quality\"]"
   ]
  },
  {
   "cell_type": "code",
   "execution_count": 43,
   "id": "bc5d1a45",
   "metadata": {},
   "outputs": [
    {
     "name": "stdout",
     "output_type": "stream",
     "text": [
      "JanNairobi\n",
      "output_data\n"
     ]
    }
   ],
   "source": [
    "# printing the list of collection available at db\n",
    "for c in db.list_collections():\n",
    "    print(c['name'])"
   ]
  },
  {
   "cell_type": "code",
   "execution_count": 44,
   "id": "b3fbeec4",
   "metadata": {},
   "outputs": [],
   "source": [
    "# assigning the collection \"output_data\" to nairobi\n",
    "nairobi = db[\"output_data\"]"
   ]
  },
  {
   "cell_type": "code",
   "execution_count": 45,
   "id": "6fdf204b",
   "metadata": {},
   "outputs": [
    {
     "name": "stdout",
     "output_type": "stream",
     "text": [
      "Collection(Database(MongoClient(host=['localhost:27017'], document_class=dict, tz_aware=False, connect=True), 'air-quality'), 'output_data.key.0')\n"
     ]
    }
   ],
   "source": [
    "nairobi_keys = nairobi.key[0]\n",
    "print(nairobi_keys)"
   ]
  },
  {
   "cell_type": "code",
   "execution_count": 46,
   "id": "acf398af",
   "metadata": {},
   "outputs": [
    {
     "data": {
      "text/plain": [
       "579674"
      ]
     },
     "execution_count": 46,
     "metadata": {},
     "output_type": "execute_result"
    }
   ],
   "source": [
    "# number of documents in nairobi\n",
    "nairobi.count_documents({})"
   ]
  },
  {
   "cell_type": "code",
   "execution_count": 47,
   "id": "06507111",
   "metadata": {},
   "outputs": [
    {
     "name": "stdout",
     "output_type": "stream",
     "text": [
      "{ 'P2': 22.4,\n",
      "  '_id': ObjectId('65ead2091775cfa69ec377c0'),\n",
      "  'lat': -1.289,\n",
      "  'location': 3573,\n",
      "  'lon': 36.825,\n",
      "  'sensor_id': 49,\n",
      "  'sensor_type': 'pms5003',\n",
      "  'timestamp': '2024-01-01T00:00:10.062960+00:00'}\n"
     ]
    }
   ],
   "source": [
    "# this will only show for only one \n",
    "result = nairobi.find_one({})\n",
    "pp.pprint(result)"
   ]
  },
  {
   "cell_type": "code",
   "execution_count": 48,
   "id": "f00cf17a",
   "metadata": {},
   "outputs": [
    {
     "name": "stdout",
     "output_type": "stream",
     "text": [
      "{ '_id': ObjectId('65ead2261775cfa69ecc5019'),\n",
      "  'lat': -1.289,\n",
      "  'location': 3573,\n",
      "  'lon': 36.825,\n",
      "  'sensor_id': 50,\n",
      "  'sensor_type': 'DHT22',\n",
      "  'temperature': 19.6,\n",
      "  'timestamp': '2024-01-31T23:59:25.265328+00:00'}\n",
      "{ '_id': ObjectId('65ead2261775cfa69ecc5018'),\n",
      "  'humidity': 99.9,\n",
      "  'lat': -1.289,\n",
      "  'location': 3573,\n",
      "  'lon': 36.825,\n",
      "  'sensor_id': 50,\n",
      "  'sensor_type': 'DHT22',\n",
      "  'timestamp': '2024-01-31T23:59:25.265328+00:00'}\n",
      "{ 'P0': 6.4,\n",
      "  '_id': ObjectId('65ead2261775cfa69ecc5017'),\n",
      "  'lat': -1.289,\n",
      "  'location': 3573,\n",
      "  'lon': 36.825,\n",
      "  'sensor_id': 49,\n",
      "  'sensor_type': 'pms5003',\n",
      "  'timestamp': '2024-01-31T23:59:24.169254+00:00'}\n"
     ]
    }
   ],
   "source": [
    "# Retrieve the last input in the dataset\n",
    "latest_input = nairobi.find({}).sort([('_id', -1)]).limit(3)\n",
    "\n",
    "for document in latest_input:\n",
    "    pp.pprint(document)"
   ]
  },
  {
   "cell_type": "code",
   "execution_count": 49,
   "id": "07a9f515",
   "metadata": {},
   "outputs": [
    {
     "data": {
      "text/plain": [
       "[35, 76, 3573, 3612, 3626]"
      ]
     },
     "execution_count": 49,
     "metadata": {},
     "output_type": "execute_result"
    }
   ],
   "source": [
    "# for distinct site  \n",
    "nairobi.distinct(\"location\")"
   ]
  },
  {
   "cell_type": "code",
   "execution_count": 50,
   "id": "b79da210",
   "metadata": {},
   "outputs": [
    {
     "name": "stdout",
     "output_type": "stream",
     "text": [
      "Documents from site 35: 72001\n",
      "Documents from site 3573: 375573\n",
      "Documents from site 3612: 67785\n",
      "Documents from site 3626: 30964\n",
      "Documents from site 76: 33351\n"
     ]
    }
   ],
   "source": [
    "# counting the number of documents at each location\n",
    "print(\"Documents from site 35:\", nairobi.count_documents({\"location\":35}))\n",
    "print(\"Documents from site 3573:\", nairobi.count_documents({\"location\":3573}))\n",
    "print(\"Documents from site 3612:\", nairobi.count_documents({\"location\":3612}))\n",
    "print(\"Documents from site 3626:\", nairobi.count_documents({\"location\":3626}))\n",
    "print(\"Documents from site 76:\", nairobi.count_documents({\"location\":76}))\n"
   ]
  },
  {
   "cell_type": "markdown",
   "id": "c2a0c217",
   "metadata": {},
   "source": [
    "<h4> we will use site 3573 as it has the most no of documents </h4>"
   ]
  },
  {
   "cell_type": "code",
   "execution_count": 51,
   "id": "4b08e7af",
   "metadata": {},
   "outputs": [
    {
     "name": "stdout",
     "output_type": "stream",
     "text": [
      "Count of humidity values: 75132\n",
      "Count of temperature values: 75132\n",
      "Count of P0 values: 75103\n",
      "Count of P1 values: 75103\n",
      "Count of P2 values: 75103\n"
     ]
    }
   ],
   "source": [
    "# we are counting the number of reading for each measuremnt type\n",
    "# Initialize counters for each measurement type\n",
    "humidity_count = 0\n",
    "temperature_count = 0\n",
    "p0_count = 0\n",
    "p1_count = 0\n",
    "p2_count = 0\n",
    "\n",
    "# Query to filter documents by location 3573\n",
    "query = {\"location\": 3573}\n",
    "\n",
    "# Iterate over the documents in the collection matching the query\n",
    "for doc in nairobi.find(query):\n",
    "    # Increment the count for each measurement type based on its presence in the document\n",
    "    if 'humidity' in doc:\n",
    "        humidity_count += 1\n",
    "    if 'temperature' in doc:\n",
    "        temperature_count += 1\n",
    "    if 'P0' in doc:\n",
    "        p0_count += 1\n",
    "    if 'P1' in doc:\n",
    "        p1_count += 1\n",
    "    if 'P2' in doc:\n",
    "        p2_count += 1\n",
    "\n",
    "# Print counts\n",
    "print(\"Count of humidity values:\", humidity_count)\n",
    "print(\"Count of temperature values:\", temperature_count)\n",
    "print(\"Count of P0 values:\", p0_count)\n",
    "print(\"Count of P1 values:\", p1_count)\n",
    "print(\"Count of P2 values:\", p2_count)\n"
   ]
  },
  {
   "cell_type": "code",
   "execution_count": 52,
   "id": "c623fa8f",
   "metadata": {},
   "outputs": [
    {
     "name": "stdout",
     "output_type": "stream",
     "text": [
      "{'P2': 22.4, 'timestamp': '2024-01-01T00:00:10.062960+00:00'}\n"
     ]
    }
   ],
   "source": [
    "# retreive the reading from site 3573 \n",
    "result = nairobi.find(\n",
    "    {\"location\": 3573},\n",
    "    {\"P2\": 1, \"timestamp\": 1, \"_id\": 0}  # Projection parameter \n",
    ")\n",
    "pp.pprint(result.next())\n"
   ]
  },
  {
   "cell_type": "code",
   "execution_count": 74,
   "id": "5cf8537e",
   "metadata": {},
   "outputs": [
    {
     "data": {
      "text/html": [
       "<div>\n",
       "<style scoped>\n",
       "    .dataframe tbody tr th:only-of-type {\n",
       "        vertical-align: middle;\n",
       "    }\n",
       "\n",
       "    .dataframe tbody tr th {\n",
       "        vertical-align: top;\n",
       "    }\n",
       "\n",
       "    .dataframe thead th {\n",
       "        text-align: right;\n",
       "    }\n",
       "</style>\n",
       "<table border=\"1\" class=\"dataframe\">\n",
       "  <thead>\n",
       "    <tr style=\"text-align: right;\">\n",
       "      <th></th>\n",
       "      <th>P2</th>\n",
       "      <th>P2.L1</th>\n",
       "    </tr>\n",
       "    <tr>\n",
       "      <th>timestamp</th>\n",
       "      <th></th>\n",
       "      <th></th>\n",
       "    </tr>\n",
       "  </thead>\n",
       "  <tbody>\n",
       "    <tr>\n",
       "      <th>2024-01-01 04:00:00+03:00</th>\n",
       "      <td>20.631081</td>\n",
       "      <td>22.537019</td>\n",
       "    </tr>\n",
       "    <tr>\n",
       "      <th>2024-01-01 05:00:00+03:00</th>\n",
       "      <td>20.193750</td>\n",
       "      <td>20.631081</td>\n",
       "    </tr>\n",
       "    <tr>\n",
       "      <th>2024-01-01 06:00:00+03:00</th>\n",
       "      <td>17.472273</td>\n",
       "      <td>20.193750</td>\n",
       "    </tr>\n",
       "    <tr>\n",
       "      <th>2024-01-01 07:00:00+03:00</th>\n",
       "      <td>17.708796</td>\n",
       "      <td>17.472273</td>\n",
       "    </tr>\n",
       "    <tr>\n",
       "      <th>2024-01-01 08:00:00+03:00</th>\n",
       "      <td>16.832432</td>\n",
       "      <td>17.708796</td>\n",
       "    </tr>\n",
       "  </tbody>\n",
       "</table>\n",
       "</div>"
      ],
      "text/plain": [
       "                                  P2      P2.L1\n",
       "timestamp                                      \n",
       "2024-01-01 04:00:00+03:00  20.631081  22.537019\n",
       "2024-01-01 05:00:00+03:00  20.193750  20.631081\n",
       "2024-01-01 06:00:00+03:00  17.472273  20.193750\n",
       "2024-01-01 07:00:00+03:00  17.708796  17.472273\n",
       "2024-01-01 08:00:00+03:00  16.832432  17.708796"
      ]
     },
     "execution_count": 74,
     "metadata": {},
     "output_type": "execute_result"
    }
   ],
   "source": [
    "# read the records from results and querying it into the dataframe \n",
    "df = pd.DataFrame(result).set_index(\"timestamp\")\n",
    "df.dropna(inplace=True)\n",
    "df.head()"
   ]
  },
  {
   "cell_type": "code",
   "execution_count": 72,
   "id": "0be85a2c",
   "metadata": {},
   "outputs": [],
   "source": [
    "# here we need to change the \n",
    "# Convert index to DateTimeIndex\n",
    "df.index = pd.to_datetime(df.index)\n",
    "\n",
    "# Convert the timezone to nairobi for the index\n",
    "df.index = df.index.tz_convert(\"Africa/Nairobi\")"
   ]
  },
  {
   "cell_type": "code",
   "execution_count": 73,
   "id": "297d2ba7",
   "metadata": {},
   "outputs": [
    {
     "data": {
      "text/html": [
       "<div>\n",
       "<style scoped>\n",
       "    .dataframe tbody tr th:only-of-type {\n",
       "        vertical-align: middle;\n",
       "    }\n",
       "\n",
       "    .dataframe tbody tr th {\n",
       "        vertical-align: top;\n",
       "    }\n",
       "\n",
       "    .dataframe thead th {\n",
       "        text-align: right;\n",
       "    }\n",
       "</style>\n",
       "<table border=\"1\" class=\"dataframe\">\n",
       "  <thead>\n",
       "    <tr style=\"text-align: right;\">\n",
       "      <th></th>\n",
       "      <th>P2</th>\n",
       "      <th>P2.L1</th>\n",
       "    </tr>\n",
       "    <tr>\n",
       "      <th>timestamp</th>\n",
       "      <th></th>\n",
       "      <th></th>\n",
       "    </tr>\n",
       "  </thead>\n",
       "  <tbody>\n",
       "    <tr>\n",
       "      <th>2024-01-01 04:00:00+03:00</th>\n",
       "      <td>20.631081</td>\n",
       "      <td>22.537019</td>\n",
       "    </tr>\n",
       "    <tr>\n",
       "      <th>2024-01-01 05:00:00+03:00</th>\n",
       "      <td>20.193750</td>\n",
       "      <td>20.631081</td>\n",
       "    </tr>\n",
       "    <tr>\n",
       "      <th>2024-01-01 06:00:00+03:00</th>\n",
       "      <td>17.472273</td>\n",
       "      <td>20.193750</td>\n",
       "    </tr>\n",
       "    <tr>\n",
       "      <th>2024-01-01 07:00:00+03:00</th>\n",
       "      <td>17.708796</td>\n",
       "      <td>17.472273</td>\n",
       "    </tr>\n",
       "    <tr>\n",
       "      <th>2024-01-01 08:00:00+03:00</th>\n",
       "      <td>16.832432</td>\n",
       "      <td>17.708796</td>\n",
       "    </tr>\n",
       "  </tbody>\n",
       "</table>\n",
       "</div>"
      ],
      "text/plain": [
       "                                  P2      P2.L1\n",
       "timestamp                                      \n",
       "2024-01-01 04:00:00+03:00  20.631081  22.537019\n",
       "2024-01-01 05:00:00+03:00  20.193750  20.631081\n",
       "2024-01-01 06:00:00+03:00  17.472273  20.193750\n",
       "2024-01-01 07:00:00+03:00  17.708796  17.472273\n",
       "2024-01-01 08:00:00+03:00  16.832432  17.708796"
      ]
     },
     "execution_count": 73,
     "metadata": {},
     "output_type": "execute_result"
    }
   ],
   "source": [
    "df.head()"
   ]
  },
  {
   "cell_type": "markdown",
   "id": "2fb03c71",
   "metadata": {},
   "source": [
    "<h2> Visualization through plots <h2> "
   ]
  },
  {
   "cell_type": "code",
   "execution_count": 56,
   "id": "15d7e1d9",
   "metadata": {},
   "outputs": [
    {
     "data": {
      "text/plain": [
       "<Axes: title={'center': 'Distribution of PM2.5 reading'}>"
      ]
     },
     "execution_count": 56,
     "metadata": {},
     "output_type": "execute_result"
    },
    {
     "data": {
      "image/png": "[encoded data removed]",
      "text/plain": [
       "<Figure size 1500x600 with 1 Axes>"
      ]
     },
     "metadata": {},
     "output_type": "display_data"
    }
   ],
   "source": [
    "# plotting the box plot to visualize the oultiers present in our data\n",
    "\n",
    "fig, ax = plt.subplots(figsize=(15, 6))\n",
    "df[\"P2\"].plot(kind = \"box\", vert = False, title = \"Distribution of PM2.5 reading\", ax = ax)"
   ]
  },
  {
   "cell_type": "code",
   "execution_count": 75,
   "id": "2439ab54",
   "metadata": {},
   "outputs": [],
   "source": [
    "#Removing the outliers\n",
    "df = df[df[\"P2\"] < 500 ] "
   ]
  },
  {
   "cell_type": "code",
   "execution_count": 57,
   "id": "764862c8",
   "metadata": {},
   "outputs": [
    {
     "data": {
      "text/html": [
       "<div>\n",
       "<style scoped>\n",
       "    .dataframe tbody tr th:only-of-type {\n",
       "        vertical-align: middle;\n",
       "    }\n",
       "\n",
       "    .dataframe tbody tr th {\n",
       "        vertical-align: top;\n",
       "    }\n",
       "\n",
       "    .dataframe thead th {\n",
       "        text-align: right;\n",
       "    }\n",
       "</style>\n",
       "<table border=\"1\" class=\"dataframe\">\n",
       "  <thead>\n",
       "    <tr style=\"text-align: right;\">\n",
       "      <th></th>\n",
       "      <th>P2</th>\n",
       "    </tr>\n",
       "    <tr>\n",
       "      <th>timestamp</th>\n",
       "      <th></th>\n",
       "    </tr>\n",
       "  </thead>\n",
       "  <tbody>\n",
       "    <tr>\n",
       "      <th>2024-01-01 03:00:00+03:00</th>\n",
       "      <td>22.537019</td>\n",
       "    </tr>\n",
       "    <tr>\n",
       "      <th>2024-01-01 04:00:00+03:00</th>\n",
       "      <td>20.631081</td>\n",
       "    </tr>\n",
       "    <tr>\n",
       "      <th>2024-01-01 05:00:00+03:00</th>\n",
       "      <td>20.193750</td>\n",
       "    </tr>\n",
       "    <tr>\n",
       "      <th>2024-01-01 06:00:00+03:00</th>\n",
       "      <td>17.472273</td>\n",
       "    </tr>\n",
       "    <tr>\n",
       "      <th>2024-01-01 07:00:00+03:00</th>\n",
       "      <td>17.708796</td>\n",
       "    </tr>\n",
       "  </tbody>\n",
       "</table>\n",
       "</div>"
      ],
      "text/plain": [
       "                                  P2\n",
       "timestamp                           \n",
       "2024-01-01 03:00:00+03:00  22.537019\n",
       "2024-01-01 04:00:00+03:00  20.631081\n",
       "2024-01-01 05:00:00+03:00  20.193750\n",
       "2024-01-01 06:00:00+03:00  17.472273\n",
       "2024-01-01 07:00:00+03:00  17.708796"
      ]
     },
     "execution_count": 57,
     "metadata": {},
     "output_type": "execute_result"
    }
   ],
   "source": [
    "#Resampling the data to hourly format and converting that data into the dataframe  and impute missing values with forward fill\n",
    "\n",
    "df = df[\"P2\"].resample(\"1H\").mean().fillna(method = \"ffill\").to_frame()\n",
    "df.head()"
   ]
  },
  {
   "cell_type": "code",
   "execution_count": 76,
   "id": "3fb486f6",
   "metadata": {},
   "outputs": [
    {
     "data": {
      "text/plain": [
       "<Axes: title={'center': 'PM 2.5 Time Series'}, xlabel='Time', ylabel='PM 2.5'>"
      ]
     },
     "execution_count": 76,
     "metadata": {},
     "output_type": "execute_result"
    },
    {
     "data": {
      "image/png": "[encoded data removed]",
      "text/plain": [
       "<Figure size 1500x600 with 1 Axes>"
      ]
     },
     "metadata": {},
     "output_type": "display_data"
    }
   ],
   "source": [
    "# plot of P2 reading of January month\n",
    "\n",
    "fig, ax = plt.subplots(figsize=(15, 6))\n",
    "df[\"P2\"].plot(xlabel = \"Time\", ylabel = \"PM 2.5\", title = \"PM 2.5 Time Series\")"
   ]
  },
  {
   "cell_type": "code",
   "execution_count": 77,
   "id": "3f8c32a7",
   "metadata": {},
   "outputs": [
    {
     "data": {
      "text/plain": [
       "<Axes: title={'center': 'Weekly rolling average'}, xlabel='timestamp', ylabel='PM 2.5'>"
      ]
     },
     "execution_count": 77,
     "metadata": {},
     "output_type": "execute_result"
    },
    {
     "data": {
      "image/png": "[encoded data removed]",
      "text/plain": [
       "<Figure size 1500x600 with 1 Axes>"
      ]
     },
     "metadata": {},
     "output_type": "display_data"
    }
   ],
   "source": [
    "# weekly rolling average or moving average\n",
    "# we have use rolling as 168 as it is the hours in a week.\n",
    "\n",
    "fig, ax = plt.subplots(figsize=(15, 6))\n",
    "df[\"P2\"].rolling(168).mean().plot(ax=ax, ylabel = \"PM 2.5\",title = \"Weekly rolling average\")"
   ]
  },
  {
   "cell_type": "markdown",
   "id": "4e506a6c",
   "metadata": {},
   "source": [
    "<h2>Correlation</h2>"
   ]
  },
  {
   "cell_type": "code",
   "execution_count": 60,
   "id": "a76259d3",
   "metadata": {},
   "outputs": [
    {
     "data": {
      "text/html": [
       "<div>\n",
       "<style scoped>\n",
       "    .dataframe tbody tr th:only-of-type {\n",
       "        vertical-align: middle;\n",
       "    }\n",
       "\n",
       "    .dataframe tbody tr th {\n",
       "        vertical-align: top;\n",
       "    }\n",
       "\n",
       "    .dataframe thead th {\n",
       "        text-align: right;\n",
       "    }\n",
       "</style>\n",
       "<table border=\"1\" class=\"dataframe\">\n",
       "  <thead>\n",
       "    <tr style=\"text-align: right;\">\n",
       "      <th></th>\n",
       "      <th>P2</th>\n",
       "      <th>P2.L1</th>\n",
       "    </tr>\n",
       "    <tr>\n",
       "      <th>timestamp</th>\n",
       "      <th></th>\n",
       "      <th></th>\n",
       "    </tr>\n",
       "  </thead>\n",
       "  <tbody>\n",
       "    <tr>\n",
       "      <th>2024-01-01 04:00:00+03:00</th>\n",
       "      <td>20.631081</td>\n",
       "      <td>22.537019</td>\n",
       "    </tr>\n",
       "    <tr>\n",
       "      <th>2024-01-01 05:00:00+03:00</th>\n",
       "      <td>20.193750</td>\n",
       "      <td>20.631081</td>\n",
       "    </tr>\n",
       "    <tr>\n",
       "      <th>2024-01-01 06:00:00+03:00</th>\n",
       "      <td>17.472273</td>\n",
       "      <td>20.193750</td>\n",
       "    </tr>\n",
       "    <tr>\n",
       "      <th>2024-01-01 07:00:00+03:00</th>\n",
       "      <td>17.708796</td>\n",
       "      <td>17.472273</td>\n",
       "    </tr>\n",
       "    <tr>\n",
       "      <th>2024-01-01 08:00:00+03:00</th>\n",
       "      <td>16.832432</td>\n",
       "      <td>17.708796</td>\n",
       "    </tr>\n",
       "  </tbody>\n",
       "</table>\n",
       "</div>"
      ],
      "text/plain": [
       "                                  P2      P2.L1\n",
       "timestamp                                      \n",
       "2024-01-01 04:00:00+03:00  20.631081  22.537019\n",
       "2024-01-01 05:00:00+03:00  20.193750  20.631081\n",
       "2024-01-01 06:00:00+03:00  17.472273  20.193750\n",
       "2024-01-01 07:00:00+03:00  17.708796  17.472273\n",
       "2024-01-01 08:00:00+03:00  16.832432  17.708796"
      ]
     },
     "execution_count": 60,
     "metadata": {},
     "output_type": "execute_result"
    }
   ],
   "source": [
    "# we are creating this new columns inorder to find the correlation between current hour and previous hour\n",
    "df[\"P2.L1\"] = df[\"P2\"].shift(1)\n",
    "df.dropna(inplace = True)\n",
    "df.head()"
   ]
  },
  {
   "cell_type": "code",
   "execution_count": 61,
   "id": "77e62764",
   "metadata": {},
   "outputs": [
    {
     "data": {
      "text/html": [
       "<div>\n",
       "<style scoped>\n",
       "    .dataframe tbody tr th:only-of-type {\n",
       "        vertical-align: middle;\n",
       "    }\n",
       "\n",
       "    .dataframe tbody tr th {\n",
       "        vertical-align: top;\n",
       "    }\n",
       "\n",
       "    .dataframe thead th {\n",
       "        text-align: right;\n",
       "    }\n",
       "</style>\n",
       "<table border=\"1\" class=\"dataframe\">\n",
       "  <thead>\n",
       "    <tr style=\"text-align: right;\">\n",
       "      <th></th>\n",
       "      <th>P2</th>\n",
       "      <th>P2.L1</th>\n",
       "    </tr>\n",
       "  </thead>\n",
       "  <tbody>\n",
       "    <tr>\n",
       "      <th>P2</th>\n",
       "      <td>1.000000</td>\n",
       "      <td>0.775347</td>\n",
       "    </tr>\n",
       "    <tr>\n",
       "      <th>P2.L1</th>\n",
       "      <td>0.775347</td>\n",
       "      <td>1.000000</td>\n",
       "    </tr>\n",
       "  </tbody>\n",
       "</table>\n",
       "</div>"
      ],
      "text/plain": [
       "             P2     P2.L1\n",
       "P2     1.000000  0.775347\n",
       "P2.L1  0.775347  1.000000"
      ]
     },
     "execution_count": 61,
     "metadata": {},
     "output_type": "execute_result"
    }
   ],
   "source": [
    "# we are finding correlation \n",
    "df.corr()"
   ]
  },
  {
   "cell_type": "code",
   "execution_count": 78,
   "id": "fb0682be",
   "metadata": {},
   "outputs": [
    {
     "data": {
      "text/plain": [
       "Text(0.5, 1.0, 'PM 2.5 Autocorrelation')"
      ]
     },
     "execution_count": 78,
     "metadata": {},
     "output_type": "execute_result"
    },
    {
     "data": {
      "image/png": "[encoded data removed]",
      "text/plain": [
       "<Figure size 600x600 with 1 Axes>"
      ]
     },
     "metadata": {},
     "output_type": "display_data"
    }
   ],
   "source": [
    "# scatter graph of correlation for understanding correlation in  visualization\n",
    "\n",
    "fig, ax = plt.subplots(figsize=(6, 6))\n",
    "ax.scatter(x = df[\"P2.L1\"], y = df[\"P2\"])\n",
    "ax.plot([0,120],[0,120], linestyle = \"--\", color = \"orange\")\n",
    "plt.xlabel(\"P2.L1\")\n",
    "plt.ylabel(\"P2\")\n",
    "plt.title(\"PM 2.5 Autocorrelation\")"
   ]
  },
  {
   "cell_type": "markdown",
   "id": "56700937",
   "metadata": {},
   "source": [
    "<h2> Splitting the data <h2>\n",
    "    <h3> we are splitting the dataframe into feature and target </h3>"
   ]
  },
  {
   "cell_type": "code",
   "execution_count": 63,
   "id": "634bba88",
   "metadata": {},
   "outputs": [
    {
     "data": {
      "text/html": [
       "<div>\n",
       "<style scoped>\n",
       "    .dataframe tbody tr th:only-of-type {\n",
       "        vertical-align: middle;\n",
       "    }\n",
       "\n",
       "    .dataframe tbody tr th {\n",
       "        vertical-align: top;\n",
       "    }\n",
       "\n",
       "    .dataframe thead th {\n",
       "        text-align: right;\n",
       "    }\n",
       "</style>\n",
       "<table border=\"1\" class=\"dataframe\">\n",
       "  <thead>\n",
       "    <tr style=\"text-align: right;\">\n",
       "      <th></th>\n",
       "      <th>P2.L1</th>\n",
       "    </tr>\n",
       "    <tr>\n",
       "      <th>timestamp</th>\n",
       "      <th></th>\n",
       "    </tr>\n",
       "  </thead>\n",
       "  <tbody>\n",
       "    <tr>\n",
       "      <th>2024-01-01 04:00:00+03:00</th>\n",
       "      <td>22.537019</td>\n",
       "    </tr>\n",
       "    <tr>\n",
       "      <th>2024-01-01 05:00:00+03:00</th>\n",
       "      <td>20.631081</td>\n",
       "    </tr>\n",
       "    <tr>\n",
       "      <th>2024-01-01 06:00:00+03:00</th>\n",
       "      <td>20.193750</td>\n",
       "    </tr>\n",
       "    <tr>\n",
       "      <th>2024-01-01 07:00:00+03:00</th>\n",
       "      <td>17.472273</td>\n",
       "    </tr>\n",
       "    <tr>\n",
       "      <th>2024-01-01 08:00:00+03:00</th>\n",
       "      <td>17.708796</td>\n",
       "    </tr>\n",
       "  </tbody>\n",
       "</table>\n",
       "</div>"
      ],
      "text/plain": [
       "                               P2.L1\n",
       "timestamp                           \n",
       "2024-01-01 04:00:00+03:00  22.537019\n",
       "2024-01-01 05:00:00+03:00  20.631081\n",
       "2024-01-01 06:00:00+03:00  20.193750\n",
       "2024-01-01 07:00:00+03:00  17.472273\n",
       "2024-01-01 08:00:00+03:00  17.708796"
      ]
     },
     "execution_count": 63,
     "metadata": {},
     "output_type": "execute_result"
    }
   ],
   "source": [
    "# here my target is P2 so i am assiging it to y and feature to x\n",
    "target = \"P2\"\n",
    "y = df[target]\n",
    "X = df.drop(columns = target)\n",
    "X.head()"
   ]
  },
  {
   "cell_type": "markdown",
   "id": "93d0997f",
   "metadata": {},
   "source": [
    "<h3> splitting the data into training and testing data </h3>"
   ]
  },
  {
   "cell_type": "code",
   "execution_count": 64,
   "id": "b46e7d3a",
   "metadata": {},
   "outputs": [],
   "source": [
    "# here we are splitting 80% into training and 20% into testing data \n",
    "\n",
    "cutoff = int(len(X)*0.8)\n",
    "\n",
    "X_train, y_train = X.iloc[:cutoff], y.iloc[:cutoff]\n",
    "X_test, y_test = X.iloc[cutoff:], y.iloc[cutoff:]"
   ]
  },
  {
   "cell_type": "code",
   "execution_count": 65,
   "id": "c0bfed7e",
   "metadata": {},
   "outputs": [
    {
     "data": {
      "text/plain": [
       "True"
      ]
     },
     "execution_count": 65,
     "metadata": {},
     "output_type": "execute_result"
    }
   ],
   "source": [
    "# checking if our data is splitted properly and checking the count if it matches to X \n",
    "len(X_train) + len(X_test)  == len(X)"
   ]
  },
  {
   "cell_type": "markdown",
   "id": "bfaf785d",
   "metadata": {},
   "source": [
    "<h2>Building Model</h2>\n",
    "<h3> Baseline <h3>"
   ]
  },
  {
   "cell_type": "code",
   "execution_count": 66,
   "id": "eb3359b9",
   "metadata": {},
   "outputs": [
    {
     "name": "stdout",
     "output_type": "stream",
     "text": [
      "Mean P2 Reading: 28.89\n",
      "Baseline MAE: 7.3\n"
     ]
    }
   ],
   "source": [
    "# Building the model\n",
    "y_mean = y_train.mean()\n",
    "y_pred_baseline = [y_mean] * len(y_train)\n",
    "mae_baseline = mean_absolute_error(y_train, y_pred_baseline)\n",
    "\n",
    "print(\"Mean P2 Reading:\", round(y_train.mean(), 2))\n",
    "print(\"Baseline MAE:\", round(mae_baseline, 2))"
   ]
  },
  {
   "cell_type": "markdown",
   "id": "496ca94c",
   "metadata": {},
   "source": [
    "<h3>Iterate</h3>\n",
    "<h4>instantiate the linear regression model and fitting the training data</h4>"
   ]
  },
  {
   "cell_type": "code",
   "execution_count": 67,
   "id": "b3f4b881",
   "metadata": {},
   "outputs": [
    {
     "data": {
      "text/html": [
       "<style>#sk-container-id-2 {color: black;}#sk-container-id-2 pre{padding: 0;}#sk-container-id-2 div.sk-toggleable {background-color: white;}#sk-container-id-2 label.sk-toggleable__label {cursor: pointer;display: block;width: 100%;margin-bottom: 0;padding: 0.3em;box-sizing: border-box;text-align: center;}#sk-container-id-2 label.sk-toggleable__label-arrow:before {content: \"▸\";float: left;margin-right: 0.25em;color: #696969;}#sk-container-id-2 label.sk-toggleable__label-arrow:hover:before {color: black;}#sk-container-id-2 div.sk-estimator:hover label.sk-toggleable__label-arrow:before {color: black;}#sk-container-id-2 div.sk-toggleable__content {max-height: 0;max-width: 0;overflow: hidden;text-align: left;background-color: #f0f8ff;}#sk-container-id-2 div.sk-toggleable__content pre {margin: 0.2em;color: black;border-radius: 0.25em;background-color: #f0f8ff;}#sk-container-id-2 input.sk-toggleable__control:checked~div.sk-toggleable__content {max-height: 200px;max-width: 100%;overflow: auto;}#sk-container-id-2 input.sk-toggleable__control:checked~label.sk-toggleable__label-arrow:before {content: \"▾\";}#sk-container-id-2 div.sk-estimator input.sk-toggleable__control:checked~label.sk-toggleable__label {background-color: #d4ebff;}#sk-container-id-2 div.sk-label input.sk-toggleable__control:checked~label.sk-toggleable__label {background-color: #d4ebff;}#sk-container-id-2 input.sk-hidden--visually {border: 0;clip: rect(1px 1px 1px 1px);clip: rect(1px, 1px, 1px, 1px);height: 1px;margin: -1px;overflow: hidden;padding: 0;position: absolute;width: 1px;}#sk-container-id-2 div.sk-estimator {font-family: monospace;background-color: #f0f8ff;border: 1px dotted black;border-radius: 0.25em;box-sizing: border-box;margin-bottom: 0.5em;}#sk-container-id-2 div.sk-estimator:hover {background-color: #d4ebff;}#sk-container-id-2 div.sk-parallel-item::after {content: \"\";width: 100%;border-bottom: 1px solid gray;flex-grow: 1;}#sk-container-id-2 div.sk-label:hover label.sk-toggleable__label {background-color: #d4ebff;}#sk-container-id-2 div.sk-serial::before {content: \"\";position: absolute;border-left: 1px solid gray;box-sizing: border-box;top: 0;bottom: 0;left: 50%;z-index: 0;}#sk-container-id-2 div.sk-serial {display: flex;flex-direction: column;align-items: center;background-color: white;padding-right: 0.2em;padding-left: 0.2em;position: relative;}#sk-container-id-2 div.sk-item {position: relative;z-index: 1;}#sk-container-id-2 div.sk-parallel {display: flex;align-items: stretch;justify-content: center;background-color: white;position: relative;}#sk-container-id-2 div.sk-item::before, #sk-container-id-2 div.sk-parallel-item::before {content: \"\";position: absolute;border-left: 1px solid gray;box-sizing: border-box;top: 0;bottom: 0;left: 50%;z-index: -1;}#sk-container-id-2 div.sk-parallel-item {display: flex;flex-direction: column;z-index: 1;position: relative;background-color: white;}#sk-container-id-2 div.sk-parallel-item:first-child::after {align-self: flex-end;width: 50%;}#sk-container-id-2 div.sk-parallel-item:last-child::after {align-self: flex-start;width: 50%;}#sk-container-id-2 div.sk-parallel-item:only-child::after {width: 0;}#sk-container-id-2 div.sk-dashed-wrapped {border: 1px dashed gray;margin: 0 0.4em 0.5em 0.4em;box-sizing: border-box;padding-bottom: 0.4em;background-color: white;}#sk-container-id-2 div.sk-label label {font-family: monospace;font-weight: bold;display: inline-block;line-height: 1.2em;}#sk-container-id-2 div.sk-label-container {text-align: center;}#sk-container-id-2 div.sk-container {/* jupyter's `normalize.less` sets `[hidden] { display: none; }` but bootstrap.min.css set `[hidden] { display: none !important; }` so we also need the `!important` here to be able to override the default hidden behavior on the sphinx rendered scikit-learn.org. See: https://github.com/scikit-learn/scikit-learn/issues/21755 */display: inline-block !important;position: relative;}#sk-container-id-2 div.sk-text-repr-fallback {display: none;}</style><div id=\"sk-container-id-2\" class=\"sk-top-container\"><div class=\"sk-text-repr-fallback\"><pre>LinearRegression()</pre><b>In a Jupyter environment, please rerun this cell to show the HTML representation or trust the notebook. <br />On GitHub, the HTML representation is unable to render, please try loading this page with nbviewer.org.</b></div><div class=\"sk-container\" hidden><div class=\"sk-item\"><div class=\"sk-estimator sk-toggleable\"><input class=\"sk-toggleable__control sk-hidden--visually\" id=\"sk-estimator-id-2\" type=\"checkbox\" checked><label for=\"sk-estimator-id-2\" class=\"sk-toggleable__label sk-toggleable__label-arrow\">LinearRegression</label><div class=\"sk-toggleable__content\"><pre>LinearRegression()</pre></div></div></div></div></div>"
      ],
      "text/plain": [
       "LinearRegression()"
      ]
     },
     "execution_count": 67,
     "metadata": {},
     "output_type": "execute_result"
    }
   ],
   "source": [
    "# training our model with Linear regression\n",
    "model = LinearRegression()\n",
    "model.fit(X_train, y_train)\n"
   ]
  },
  {
   "cell_type": "code",
   "execution_count": 68,
   "id": "0927ceb5",
   "metadata": {},
   "outputs": [
    {
     "name": "stdout",
     "output_type": "stream",
     "text": [
      "Training MAE: 4.24\n",
      "Test MAE: 4.89\n"
     ]
    }
   ],
   "source": [
    "# calculate the training and testing MAE for our model\n",
    "training_mae = mean_absolute_error(y_train, model.predict(X_train) )\n",
    "test_mae = mean_absolute_error(y_test, model.predict(X_test))\n",
    "print(\"Training MAE:\", round(training_mae, 2))\n",
    "print(\"Test MAE:\", round(test_mae, 2))"
   ]
  },
  {
   "cell_type": "markdown",
   "id": "15f6ed39",
   "metadata": {},
   "source": [
    "<h3>Creating the dataframe which contains the test data and prediction by the model</h3>"
   ]
  },
  {
   "cell_type": "code",
   "execution_count": 69,
   "id": "fcf24496",
   "metadata": {},
   "outputs": [
    {
     "data": {
      "text/html": [
       "<div>\n",
       "<style scoped>\n",
       "    .dataframe tbody tr th:only-of-type {\n",
       "        vertical-align: middle;\n",
       "    }\n",
       "\n",
       "    .dataframe tbody tr th {\n",
       "        vertical-align: top;\n",
       "    }\n",
       "\n",
       "    .dataframe thead th {\n",
       "        text-align: right;\n",
       "    }\n",
       "</style>\n",
       "<table border=\"1\" class=\"dataframe\">\n",
       "  <thead>\n",
       "    <tr style=\"text-align: right;\">\n",
       "      <th></th>\n",
       "      <th>y_test</th>\n",
       "      <th>y_pred</th>\n",
       "    </tr>\n",
       "    <tr>\n",
       "      <th>timestamp</th>\n",
       "      <th></th>\n",
       "      <th></th>\n",
       "    </tr>\n",
       "  </thead>\n",
       "  <tbody>\n",
       "    <tr>\n",
       "      <th>2024-01-25 22:00:00+03:00</th>\n",
       "      <td>20.490926</td>\n",
       "      <td>24.868417</td>\n",
       "    </tr>\n",
       "    <tr>\n",
       "      <th>2024-01-25 23:00:00+03:00</th>\n",
       "      <td>30.208850</td>\n",
       "      <td>22.448567</td>\n",
       "    </tr>\n",
       "    <tr>\n",
       "      <th>2024-01-26 00:00:00+03:00</th>\n",
       "      <td>28.166518</td>\n",
       "      <td>29.902325</td>\n",
       "    </tr>\n",
       "    <tr>\n",
       "      <th>2024-01-26 01:00:00+03:00</th>\n",
       "      <td>22.624312</td>\n",
       "      <td>28.335833</td>\n",
       "    </tr>\n",
       "    <tr>\n",
       "      <th>2024-01-26 02:00:00+03:00</th>\n",
       "      <td>22.447619</td>\n",
       "      <td>24.084898</td>\n",
       "    </tr>\n",
       "  </tbody>\n",
       "</table>\n",
       "</div>"
      ],
      "text/plain": [
       "                              y_test     y_pred\n",
       "timestamp                                      \n",
       "2024-01-25 22:00:00+03:00  20.490926  24.868417\n",
       "2024-01-25 23:00:00+03:00  30.208850  22.448567\n",
       "2024-01-26 00:00:00+03:00  28.166518  29.902325\n",
       "2024-01-26 01:00:00+03:00  22.624312  28.335833\n",
       "2024-01-26 02:00:00+03:00  22.447619  24.084898"
      ]
     },
     "execution_count": 69,
     "metadata": {},
     "output_type": "execute_result"
    }
   ],
   "source": [
    "df_pred_test = pd.DataFrame(\n",
    "    {\n",
    "        \"y_test\":y_test,\n",
    "        \"y_pred\":model.predict(X_test)\n",
    "    }\n",
    ")\n",
    "df_pred_test.head()"
   ]
  },
  {
   "cell_type": "markdown",
   "id": "86b21f52",
   "metadata": {},
   "source": [
    "<h3> Plotting the time series model </h3>"
   ]
  },
  {
   "cell_type": "code",
   "execution_count": 81,
   "id": "ed0f8da5",
   "metadata": {},
   "outputs": [
    {
     "data": {
      "application/vnd.plotly.v1+json": {
       "config": {
        "plotlyServerURL": "https://plot.ly"
       },
       "data": [
        {
         "hovertemplate": "variable=y_test<br>timestamp=%{x}<br>P2=%{y}<extra></extra>",
         "legendgroup": "y_test",
         "line": {
          "color": "#636efa",
          "dash": "solid"
         },
         "marker": {
          "symbol": "circle"
         },
         "mode": "lines",
         "name": "y_test",
         "orientation": "v",
         "showlegend": true,
         "type": "scatter",
         "x": [
          "2024-01-25T22:00:00+03:00",
          "2024-01-25T23:00:00+03:00",
          "2024-01-26T00:00:00+03:00",
          "2024-01-26T01:00:00+03:00",
          "2024-01-26T02:00:00+03:00",
          "2024-01-26T03:00:00+03:00",
          "2024-01-26T04:00:00+03:00",
          "2024-01-26T05:00:00+03:00",
          "2024-01-26T06:00:00+03:00",
          "2024-01-26T07:00:00+03:00",
          "2024-01-26T08:00:00+03:00",
          "2024-01-26T09:00:00+03:00",
          "2024-01-26T10:00:00+03:00",
          "2024-01-26T11:00:00+03:00",
          "2024-01-26T12:00:00+03:00",
          "2024-01-26T13:00:00+03:00",
          "2024-01-26T14:00:00+03:00",
          "2024-01-26T15:00:00+03:00",
          "2024-01-26T16:00:00+03:00",
          "2024-01-26T17:00:00+03:00",
          "2024-01-26T18:00:00+03:00",
          "2024-01-26T19:00:00+03:00",
          "2024-01-26T20:00:00+03:00",
          "2024-01-26T21:00:00+03:00",
          "2024-01-26T22:00:00+03:00",
          "2024-01-26T23:00:00+03:00",
          "2024-01-27T00:00:00+03:00",
          "2024-01-27T01:00:00+03:00",
          "2024-01-27T02:00:00+03:00",
          "2024-01-27T03:00:00+03:00",
          "2024-01-27T04:00:00+03:00",
          "2024-01-27T05:00:00+03:00",
          "2024-01-27T06:00:00+03:00",
          "2024-01-27T07:00:00+03:00",
          "2024-01-27T08:00:00+03:00",
          "2024-01-27T09:00:00+03:00",
          "2024-01-27T10:00:00+03:00",
          "2024-01-27T11:00:00+03:00",
          "2024-01-27T12:00:00+03:00",
          "2024-01-27T13:00:00+03:00",
          "2024-01-27T14:00:00+03:00",
          "2024-01-27T15:00:00+03:00",
          "2024-01-27T16:00:00+03:00",
          "2024-01-27T17:00:00+03:00",
          "2024-01-27T18:00:00+03:00",
          "2024-01-27T19:00:00+03:00",
          "2024-01-27T20:00:00+03:00",
          "2024-01-27T21:00:00+03:00",
          "2024-01-27T22:00:00+03:00",
          "2024-01-27T23:00:00+03:00",
          "2024-01-28T00:00:00+03:00",
          "2024-01-28T01:00:00+03:00",
          "2024-01-28T02:00:00+03:00",
          "2024-01-28T03:00:00+03:00",
          "2024-01-28T04:00:00+03:00",
          "2024-01-28T05:00:00+03:00",
          "2024-01-28T06:00:00+03:00",
          "2024-01-28T07:00:00+03:00",
          "2024-01-28T08:00:00+03:00",
          "2024-01-28T09:00:00+03:00",
          "2024-01-28T10:00:00+03:00",
          "2024-01-28T11:00:00+03:00",
          "2024-01-28T12:00:00+03:00",
          "2024-01-28T13:00:00+03:00",
          "2024-01-28T14:00:00+03:00",
          "2024-01-28T15:00:00+03:00",
          "2024-01-28T16:00:00+03:00",
          "2024-01-28T17:00:00+03:00",
          "2024-01-28T18:00:00+03:00",
          "2024-01-28T19:00:00+03:00",
          "2024-01-28T20:00:00+03:00",
          "2024-01-28T21:00:00+03:00",
          "2024-01-28T22:00:00+03:00",
          "2024-01-28T23:00:00+03:00",
          "2024-01-29T00:00:00+03:00",
          "2024-01-29T01:00:00+03:00",
          "2024-01-29T02:00:00+03:00",
          "2024-01-29T03:00:00+03:00",
          "2024-01-29T04:00:00+03:00",
          "2024-01-29T05:00:00+03:00",
          "2024-01-29T06:00:00+03:00",
          "2024-01-29T07:00:00+03:00",
          "2024-01-29T08:00:00+03:00",
          "2024-01-29T09:00:00+03:00",
          "2024-01-29T10:00:00+03:00",
          "2024-01-29T11:00:00+03:00",
          "2024-01-29T12:00:00+03:00",
          "2024-01-29T13:00:00+03:00",
          "2024-01-29T14:00:00+03:00",
          "2024-01-29T15:00:00+03:00",
          "2024-01-29T16:00:00+03:00",
          "2024-01-29T17:00:00+03:00",
          "2024-01-29T18:00:00+03:00",
          "2024-01-29T19:00:00+03:00",
          "2024-01-29T20:00:00+03:00",
          "2024-01-29T21:00:00+03:00",
          "2024-01-29T22:00:00+03:00",
          "2024-01-29T23:00:00+03:00",
          "2024-01-30T00:00:00+03:00",
          "2024-01-30T01:00:00+03:00",
          "2024-01-30T02:00:00+03:00",
          "2024-01-30T03:00:00+03:00",
          "2024-01-30T04:00:00+03:00",
          "2024-01-30T05:00:00+03:00",
          "2024-01-30T06:00:00+03:00",
          "2024-01-30T07:00:00+03:00",
          "2024-01-30T08:00:00+03:00",
          "2024-01-30T09:00:00+03:00",
          "2024-01-30T10:00:00+03:00",
          "2024-01-30T11:00:00+03:00",
          "2024-01-30T12:00:00+03:00",
          "2024-01-30T13:00:00+03:00",
          "2024-01-30T14:00:00+03:00",
          "2024-01-30T15:00:00+03:00",
          "2024-01-30T16:00:00+03:00",
          "2024-01-30T17:00:00+03:00",
          "2024-01-30T18:00:00+03:00",
          "2024-01-30T19:00:00+03:00",
          "2024-01-30T20:00:00+03:00",
          "2024-01-30T21:00:00+03:00",
          "2024-01-30T22:00:00+03:00",
          "2024-01-30T23:00:00+03:00",
          "2024-01-31T00:00:00+03:00",
          "2024-01-31T01:00:00+03:00",
          "2024-01-31T02:00:00+03:00",
          "2024-01-31T03:00:00+03:00",
          "2024-01-31T04:00:00+03:00",
          "2024-01-31T05:00:00+03:00",
          "2024-01-31T06:00:00+03:00",
          "2024-01-31T07:00:00+03:00",
          "2024-01-31T08:00:00+03:00",
          "2024-01-31T09:00:00+03:00",
          "2024-01-31T10:00:00+03:00",
          "2024-01-31T11:00:00+03:00",
          "2024-01-31T12:00:00+03:00",
          "2024-01-31T13:00:00+03:00",
          "2024-01-31T14:00:00+03:00",
          "2024-01-31T15:00:00+03:00",
          "2024-01-31T16:00:00+03:00",
          "2024-01-31T17:00:00+03:00",
          "2024-01-31T18:00:00+03:00",
          "2024-01-31T19:00:00+03:00",
          "2024-01-31T20:00:00+03:00",
          "2024-01-31T21:00:00+03:00",
          "2024-01-31T22:00:00+03:00",
          "2024-01-31T23:00:00+03:00",
          "2024-02-01T00:00:00+03:00",
          "2024-02-01T01:00:00+03:00",
          "2024-02-01T02:00:00+03:00"
         ],
         "xaxis": "x",
         "y": [
          20.490925925925925,
          30.20884955752212,
          28.166517857142857,
          22.624311926605507,
          22.447619047619046,
          27.50190476190476,
          33.31351351351351,
          40.535585585585586,
          50.77449541284404,
          45.33783783783784,
          36.35825688073395,
          38.448113207547166,
          31.574,
          29.22835051546392,
          26.080978260869564,
          20.849456521739132,
          22.59263157894737,
          18.981976744186046,
          18.76578947368421,
          19.10430107526882,
          24.83952380952381,
          29.844144144144142,
          25.50462962962963,
          28.35970873786408,
          30.616999999999997,
          35.2828431372549,
          20.046728971962615,
          13.218468468468469,
          22.428899082568808,
          19.31743119266055,
          18.415625000000002,
          24.31858407079646,
          34.81830357142857,
          37.083,
          31.261574074074073,
          32.218,
          24.144949494949493,
          23.35473684210526,
          19.556632653061225,
          16.095698924731185,
          16.913541666666667,
          16.522727272727273,
          16.964356435643566,
          14.627604166666666,
          22.53194444444444,
          27.07098214285714,
          33.44120370370371,
          24.176960784313728,
          27.444791666666664,
          22.543564356435645,
          25.175,
          19.128125,
          18.739732142857143,
          22.74099099099099,
          16.429166666666667,
          13.848269230769231,
          18.642990654205608,
          39.08069306930693,
          28.076666666666668,
          22.602450980392156,
          18.498058252427185,
          16.068947368421053,
          15.940721649484535,
          10.43157894736842,
          11.343939393939394,
          11.385204081632653,
          10.594196428571427,
          10.725892857142856,
          13.340825688073396,
          20.25,
          18.58411214953271,
          19.088181818181816,
          15.21111111111111,
          16.667727272727273,
          15.868918918918919,
          26.477678571428573,
          15.183185840707965,
          13.215446428571429,
          15.024504504504504,
          23.71637168141593,
          45.57641509433962,
          51.05049019607843,
          40.96190476190476,
          25.45050505050505,
          23.23611111111111,
          17.73777777777778,
          18.301648351648353,
          18.238690476190477,
          15.480113636363637,
          13.326630434782608,
          14.945698924731182,
          16.214285714285715,
          21.09864864864865,
          24.399553571428573,
          26.464732142857144,
          25.555405405405406,
          19.25714285714286,
          15.600925925925926,
          14.389732142857143,
          20.322566371681415,
          15.039732142857144,
          22.859174311926605,
          14.50373831775701,
          22.489047619047618,
          30.691509433962267,
          47.5811320754717,
          34.953603603603604,
          24.380357142857143,
          18.678440366972477,
          21.991176470588233,
          19.924500000000002,
          17.257920792079208,
          15.341284403669725,
          18.85141509433962,
          18.336486486486486,
          18.26126126126126,
          18.39203539823009,
          28.220982142857142,
          26.85462962962963,
          24.054205607476636,
          17.244545454545456,
          11.357227722772276,
          12.577619047619049,
          11.637727272727274,
          11.914545454545454,
          12.977289719626167,
          12.382142857142856,
          17.115887850467292,
          41.27252252252252,
          44.11915887850467,
          38.72889908256881,
          26.32175925925926,
          23.354761904761904,
          24.61767676767677,
          18.00764705882353,
          17.49888888888889,
          18.222872340425532,
          20.588461538461537,
          16.90858585858586,
          17.425462962962964,
          27.114090909090912,
          29.088349514563106,
          27.60728155339806,
          23.01201923076923,
          26.113571428571426,
          20.639150943396228,
          17.645370370370372,
          20.845673076923074,
          11.175471698113206
         ],
         "yaxis": "y"
        },
        {
         "hovertemplate": "variable=y_pred<br>timestamp=%{x}<br>P2=%{y}<extra></extra>",
         "legendgroup": "y_pred",
         "line": {
          "color": "#EF553B",
          "dash": "solid"
         },
         "marker": {
          "symbol": "circle"
         },
         "mode": "lines",
         "name": "y_pred",
         "orientation": "v",
         "showlegend": true,
         "type": "scatter",
         "x": [
          "2024-01-25T22:00:00+03:00",
          "2024-01-25T23:00:00+03:00",
          "2024-01-26T00:00:00+03:00",
          "2024-01-26T01:00:00+03:00",
          "2024-01-26T02:00:00+03:00",
          "2024-01-26T03:00:00+03:00",
          "2024-01-26T04:00:00+03:00",
          "2024-01-26T05:00:00+03:00",
          "2024-01-26T06:00:00+03:00",
          "2024-01-26T07:00:00+03:00",
          "2024-01-26T08:00:00+03:00",
          "2024-01-26T09:00:00+03:00",
          "2024-01-26T10:00:00+03:00",
          "2024-01-26T11:00:00+03:00",
          "2024-01-26T12:00:00+03:00",
          "2024-01-26T13:00:00+03:00",
          "2024-01-26T14:00:00+03:00",
          "2024-01-26T15:00:00+03:00",
          "2024-01-26T16:00:00+03:00",
          "2024-01-26T17:00:00+03:00",
          "2024-01-26T18:00:00+03:00",
          "2024-01-26T19:00:00+03:00",
          "2024-01-26T20:00:00+03:00",
          "2024-01-26T21:00:00+03:00",
          "2024-01-26T22:00:00+03:00",
          "2024-01-26T23:00:00+03:00",
          "2024-01-27T00:00:00+03:00",
          "2024-01-27T01:00:00+03:00",
          "2024-01-27T02:00:00+03:00",
          "2024-01-27T03:00:00+03:00",
          "2024-01-27T04:00:00+03:00",
          "2024-01-27T05:00:00+03:00",
          "2024-01-27T06:00:00+03:00",
          "2024-01-27T07:00:00+03:00",
          "2024-01-27T08:00:00+03:00",
          "2024-01-27T09:00:00+03:00",
          "2024-01-27T10:00:00+03:00",
          "2024-01-27T11:00:00+03:00",
          "2024-01-27T12:00:00+03:00",
          "2024-01-27T13:00:00+03:00",
          "2024-01-27T14:00:00+03:00",
          "2024-01-27T15:00:00+03:00",
          "2024-01-27T16:00:00+03:00",
          "2024-01-27T17:00:00+03:00",
          "2024-01-27T18:00:00+03:00",
          "2024-01-27T19:00:00+03:00",
          "2024-01-27T20:00:00+03:00",
          "2024-01-27T21:00:00+03:00",
          "2024-01-27T22:00:00+03:00",
          "2024-01-27T23:00:00+03:00",
          "2024-01-28T00:00:00+03:00",
          "2024-01-28T01:00:00+03:00",
          "2024-01-28T02:00:00+03:00",
          "2024-01-28T03:00:00+03:00",
          "2024-01-28T04:00:00+03:00",
          "2024-01-28T05:00:00+03:00",
          "2024-01-28T06:00:00+03:00",
          "2024-01-28T07:00:00+03:00",
          "2024-01-28T08:00:00+03:00",
          "2024-01-28T09:00:00+03:00",
          "2024-01-28T10:00:00+03:00",
          "2024-01-28T11:00:00+03:00",
          "2024-01-28T12:00:00+03:00",
          "2024-01-28T13:00:00+03:00",
          "2024-01-28T14:00:00+03:00",
          "2024-01-28T15:00:00+03:00",
          "2024-01-28T16:00:00+03:00",
          "2024-01-28T17:00:00+03:00",
          "2024-01-28T18:00:00+03:00",
          "2024-01-28T19:00:00+03:00",
          "2024-01-28T20:00:00+03:00",
          "2024-01-28T21:00:00+03:00",
          "2024-01-28T22:00:00+03:00",
          "2024-01-28T23:00:00+03:00",
          "2024-01-29T00:00:00+03:00",
          "2024-01-29T01:00:00+03:00",
          "2024-01-29T02:00:00+03:00",
          "2024-01-29T03:00:00+03:00",
          "2024-01-29T04:00:00+03:00",
          "2024-01-29T05:00:00+03:00",
          "2024-01-29T06:00:00+03:00",
          "2024-01-29T07:00:00+03:00",
          "2024-01-29T08:00:00+03:00",
          "2024-01-29T09:00:00+03:00",
          "2024-01-29T10:00:00+03:00",
          "2024-01-29T11:00:00+03:00",
          "2024-01-29T12:00:00+03:00",
          "2024-01-29T13:00:00+03:00",
          "2024-01-29T14:00:00+03:00",
          "2024-01-29T15:00:00+03:00",
          "2024-01-29T16:00:00+03:00",
          "2024-01-29T17:00:00+03:00",
          "2024-01-29T18:00:00+03:00",
          "2024-01-29T19:00:00+03:00",
          "2024-01-29T20:00:00+03:00",
          "2024-01-29T21:00:00+03:00",
          "2024-01-29T22:00:00+03:00",
          "2024-01-29T23:00:00+03:00",
          "2024-01-30T00:00:00+03:00",
          "2024-01-30T01:00:00+03:00",
          "2024-01-30T02:00:00+03:00",
          "2024-01-30T03:00:00+03:00",
          "2024-01-30T04:00:00+03:00",
          "2024-01-30T05:00:00+03:00",
          "2024-01-30T06:00:00+03:00",
          "2024-01-30T07:00:00+03:00",
          "2024-01-30T08:00:00+03:00",
          "2024-01-30T09:00:00+03:00",
          "2024-01-30T10:00:00+03:00",
          "2024-01-30T11:00:00+03:00",
          "2024-01-30T12:00:00+03:00",
          "2024-01-30T13:00:00+03:00",
          "2024-01-30T14:00:00+03:00",
          "2024-01-30T15:00:00+03:00",
          "2024-01-30T16:00:00+03:00",
          "2024-01-30T17:00:00+03:00",
          "2024-01-30T18:00:00+03:00",
          "2024-01-30T19:00:00+03:00",
          "2024-01-30T20:00:00+03:00",
          "2024-01-30T21:00:00+03:00",
          "2024-01-30T22:00:00+03:00",
          "2024-01-30T23:00:00+03:00",
          "2024-01-31T00:00:00+03:00",
          "2024-01-31T01:00:00+03:00",
          "2024-01-31T02:00:00+03:00",
          "2024-01-31T03:00:00+03:00",
          "2024-01-31T04:00:00+03:00",
          "2024-01-31T05:00:00+03:00",
          "2024-01-31T06:00:00+03:00",
          "2024-01-31T07:00:00+03:00",
          "2024-01-31T08:00:00+03:00",
          "2024-01-31T09:00:00+03:00",
          "2024-01-31T10:00:00+03:00",
          "2024-01-31T11:00:00+03:00",
          "2024-01-31T12:00:00+03:00",
          "2024-01-31T13:00:00+03:00",
          "2024-01-31T14:00:00+03:00",
          "2024-01-31T15:00:00+03:00",
          "2024-01-31T16:00:00+03:00",
          "2024-01-31T17:00:00+03:00",
          "2024-01-31T18:00:00+03:00",
          "2024-01-31T19:00:00+03:00",
          "2024-01-31T20:00:00+03:00",
          "2024-01-31T21:00:00+03:00",
          "2024-01-31T22:00:00+03:00",
          "2024-01-31T23:00:00+03:00",
          "2024-02-01T00:00:00+03:00",
          "2024-02-01T01:00:00+03:00",
          "2024-02-01T02:00:00+03:00"
         ],
         "xaxis": "x",
         "y": [
          24.868416729980027,
          22.448566944894495,
          29.902324654608147,
          28.335833062927044,
          24.084898218239633,
          23.94937277485019,
          27.826067276488782,
          32.283637142267594,
          37.82304838154617,
          45.6764084157673,
          41.506430357592386,
          34.61898985832832,
          36.22193337781955,
          30.949410536457904,
          29.150270762113443,
          26.736200524748533,
          22.7235639806833,
          24.060599032060036,
          21.29118579812453,
          21.125367708238976,
          21.385009948268014,
          25.783990871866457,
          29.622591463671977,
          26.294134583869972,
          28.48401266087534,
          30.21538067590174,
          33.794135312700206,
          22.107862840216168,
          16.87050954322459,
          23.935014349212317,
          21.54848316702389,
          20.856787583066414,
          25.38442418035528,
          33.43782819386393,
          35.17487605558422,
          30.709776305693495,
          31.44336584491994,
          25.25124449018111,
          24.645142417686895,
          21.731953401739393,
          19.077377955553175,
          19.704672619941647,
          19.404913544615972,
          19.74364812442055,
          17.95133261538042,
          24.014051311185703,
          27.495544737335155,
          32.38157696724116,
          25.27579751240499,
          27.78226088429071,
          24.022963915552033,
          26.041304917127846,
          21.403283168903677,
          21.10538143978186,
          24.17439238476074,
          19.333151497990876,
          17.35357387523064,
          21.03117962011114,
          36.70712931064939,
          28.26691618015166,
          24.06813062440409,
          20.920014823175414,
          19.0568592082721,
          18.95850862667264,
          14.732933653403805,
          15.432724469885986,
          15.464374953640819,
          14.857663106958075,
          14.958675762235014,
          16.964358919237803,
          22.26377402555095,
          20.986019138841755,
          21.372646295152194,
          18.398889063723267,
          19.516130190154783,
          18.903435117472398,
          27.040474164918034,
          18.37747006441291,
          16.86819160432781,
          18.255759678742805,
          24.922520443466894,
          41.68942182083364,
          45.888099546646885,
          38.150040027884714,
          26.252620417446277,
          24.55415513578511,
          20.336871071043262,
          20.769366200311744,
          20.721076795355362,
          18.605217053378823,
          16.95347099886832,
          18.195314904728114,
          19.168335368928844,
          22.9146971699906,
          25.446528706226008,
          27.03054410728064,
          26.333080180121094,
          21.502241329497018,
          18.697881450516626,
          17.768882073617497,
          22.319433256153225,
          18.267439450170794,
          24.26504033312692,
          17.856326103569735,
          23.98114895928985,
          30.272530257324355,
          43.22706249597987,
          33.54160485400048,
          25.43180482766022,
          21.058369952105934,
          23.5992761383091,
          22.014111831600033,
          19.968815317334567,
          18.498733456393005,
          21.191043531007757,
          20.79608744509468,
          20.738388843650192,
          20.83869409080127,
          28.37760778816022,
          27.32959990440374,
          25.181642898678472,
          19.958556281655575,
          15.442916768903984,
          16.378970764725537,
          15.658063106980821,
          15.870385793918553,
          16.685522705835012,
          16.229038308260236,
          19.859874439251204,
          38.38828737533771,
          40.57168976555263,
          36.43729933047188,
          26.920882283027073,
          24.645161641028963,
          25.613831673128963,
          20.543863872228634,
          20.153640582224526,
          20.70894410571085,
          22.523377866596455,
          19.700871458902466,
          20.097322063762025,
          27.52860965025817,
          29.042888405615066,
          27.906892471437246,
          24.38227412044643,
          26.761199854260845,
          22.562257215432282,
          20.265993540872294,
          22.720662035572794
         ],
         "yaxis": "y"
        }
       ],
       "layout": {
        "legend": {
         "title": {
          "text": "variable"
         },
         "tracegroupgap": 0
        },
        "margin": {
         "t": 60
        },
        "template": {
         "data": {
          "bar": [
           {
            "error_x": {
             "color": "#2a3f5f"
            },
            "error_y": {
             "color": "#2a3f5f"
            },
            "marker": {
             "line": {
              "color": "#E5ECF6",
              "width": 0.5
             },
             "pattern": {
              "fillmode": "overlay",
              "size": 10,
              "solidity": 0.2
             }
            },
            "type": "bar"
           }
          ],
          "barpolar": [
           {
            "marker": {
             "line": {
              "color": "#E5ECF6",
              "width": 0.5
             },
             "pattern": {
              "fillmode": "overlay",
              "size": 10,
              "solidity": 0.2
             }
            },
            "type": "barpolar"
           }
          ],
          "carpet": [
           {
            "aaxis": {
             "endlinecolor": "#2a3f5f",
             "gridcolor": "white",
             "linecolor": "white",
             "minorgridcolor": "white",
             "startlinecolor": "#2a3f5f"
            },
            "baxis": {
             "endlinecolor": "#2a3f5f",
             "gridcolor": "white",
             "linecolor": "white",
             "minorgridcolor": "white",
             "startlinecolor": "#2a3f5f"
            },
            "type": "carpet"
           }
          ],
          "choropleth": [
           {
            "colorbar": {
             "outlinewidth": 0,
             "ticks": ""
            },
            "type": "choropleth"
           }
          ],
          "contour": [
           {
            "colorbar": {
             "outlinewidth": 0,
             "ticks": ""
            },
            "colorscale": [
             [
              0,
              "#0d0887"
             ],
             [
              0.1111111111111111,
              "#46039f"
             ],
             [
              0.2222222222222222,
              "#7201a8"
             ],
             [
              0.3333333333333333,
              "#9c179e"
             ],
             [
              0.4444444444444444,
              "#bd3786"
             ],
             [
              0.5555555555555556,
              "#d8576b"
             ],
             [
              0.6666666666666666,
              "#ed7953"
             ],
             [
              0.7777777777777778,
              "#fb9f3a"
             ],
             [
              0.8888888888888888,
              "#fdca26"
             ],
             [
              1,
              "#f0f921"
             ]
            ],
            "type": "contour"
           }
          ],
          "contourcarpet": [
           {
            "colorbar": {
             "outlinewidth": 0,
             "ticks": ""
            },
            "type": "contourcarpet"
           }
          ],
          "heatmap": [
           {
            "colorbar": {
             "outlinewidth": 0,
             "ticks": ""
            },
            "colorscale": [
             [
              0,
              "#0d0887"
             ],
             [
              0.1111111111111111,
              "#46039f"
             ],
             [
              0.2222222222222222,
              "#7201a8"
             ],
             [
              0.3333333333333333,
              "#9c179e"
             ],
             [
              0.4444444444444444,
              "#bd3786"
             ],
             [
              0.5555555555555556,
              "#d8576b"
             ],
             [
              0.6666666666666666,
              "#ed7953"
             ],
             [
              0.7777777777777778,
              "#fb9f3a"
             ],
             [
              0.8888888888888888,
              "#fdca26"
             ],
             [
              1,
              "#f0f921"
             ]
            ],
            "type": "heatmap"
           }
          ],
          "heatmapgl": [
           {
            "colorbar": {
             "outlinewidth": 0,
             "ticks": ""
            },
            "colorscale": [
             [
              0,
              "#0d0887"
             ],
             [
              0.1111111111111111,
              "#46039f"
             ],
             [
              0.2222222222222222,
              "#7201a8"
             ],
             [
              0.3333333333333333,
              "#9c179e"
             ],
             [
              0.4444444444444444,
              "#bd3786"
             ],
             [
              0.5555555555555556,
              "#d8576b"
             ],
             [
              0.6666666666666666,
              "#ed7953"
             ],
             [
              0.7777777777777778,
              "#fb9f3a"
             ],
             [
              0.8888888888888888,
              "#fdca26"
             ],
             [
              1,
              "#f0f921"
             ]
            ],
            "type": "heatmapgl"
           }
          ],
          "histogram": [
           {
            "marker": {
             "pattern": {
              "fillmode": "overlay",
              "size": 10,
              "solidity": 0.2
             }
            },
            "type": "histogram"
           }
          ],
          "histogram2d": [
           {
            "colorbar": {
             "outlinewidth": 0,
             "ticks": ""
            },
            "colorscale": [
             [
              0,
              "#0d0887"
             ],
             [
              0.1111111111111111,
              "#46039f"
             ],
             [
              0.2222222222222222,
              "#7201a8"
             ],
             [
              0.3333333333333333,
              "#9c179e"
             ],
             [
              0.4444444444444444,
              "#bd3786"
             ],
             [
              0.5555555555555556,
              "#d8576b"
             ],
             [
              0.6666666666666666,
              "#ed7953"
             ],
             [
              0.7777777777777778,
              "#fb9f3a"
             ],
             [
              0.8888888888888888,
              "#fdca26"
             ],
             [
              1,
              "#f0f921"
             ]
            ],
            "type": "histogram2d"
           }
          ],
          "histogram2dcontour": [
           {
            "colorbar": {
             "outlinewidth": 0,
             "ticks": ""
            },
            "colorscale": [
             [
              0,
              "#0d0887"
             ],
             [
              0.1111111111111111,
              "#46039f"
             ],
             [
              0.2222222222222222,
              "#7201a8"
             ],
             [
              0.3333333333333333,
              "#9c179e"
             ],
             [
              0.4444444444444444,
              "#bd3786"
             ],
             [
              0.5555555555555556,
              "#d8576b"
             ],
             [
              0.6666666666666666,
              "#ed7953"
             ],
             [
              0.7777777777777778,
              "#fb9f3a"
             ],
             [
              0.8888888888888888,
              "#fdca26"
             ],
             [
              1,
              "#f0f921"
             ]
            ],
            "type": "histogram2dcontour"
           }
          ],
          "mesh3d": [
           {
            "colorbar": {
             "outlinewidth": 0,
             "ticks": ""
            },
            "type": "mesh3d"
           }
          ],
          "parcoords": [
           {
            "line": {
             "colorbar": {
              "outlinewidth": 0,
              "ticks": ""
             }
            },
            "type": "parcoords"
           }
          ],
          "pie": [
           {
            "automargin": true,
            "type": "pie"
           }
          ],
          "scatter": [
           {
            "fillpattern": {
             "fillmode": "overlay",
             "size": 10,
             "solidity": 0.2
            },
            "type": "scatter"
           }
          ],
          "scatter3d": [
           {
            "line": {
             "colorbar": {
              "outlinewidth": 0,
              "ticks": ""
             }
            },
            "marker": {
             "colorbar": {
              "outlinewidth": 0,
              "ticks": ""
             }
            },
            "type": "scatter3d"
           }
          ],
          "scattercarpet": [
           {
            "marker": {
             "colorbar": {
              "outlinewidth": 0,
              "ticks": ""
             }
            },
            "type": "scattercarpet"
           }
          ],
          "scattergeo": [
           {
            "marker": {
             "colorbar": {
              "outlinewidth": 0,
              "ticks": ""
             }
            },
            "type": "scattergeo"
           }
          ],
          "scattergl": [
           {
            "marker": {
             "colorbar": {
              "outlinewidth": 0,
              "ticks": ""
             }
            },
            "type": "scattergl"
           }
          ],
          "scattermapbox": [
           {
            "marker": {
             "colorbar": {
              "outlinewidth": 0,
              "ticks": ""
             }
            },
            "type": "scattermapbox"
           }
          ],
          "scatterpolar": [
           {
            "marker": {
             "colorbar": {
              "outlinewidth": 0,
              "ticks": ""
             }
            },
            "type": "scatterpolar"
           }
          ],
          "scatterpolargl": [
           {
            "marker": {
             "colorbar": {
              "outlinewidth": 0,
              "ticks": ""
             }
            },
            "type": "scatterpolargl"
           }
          ],
          "scatterternary": [
           {
            "marker": {
             "colorbar": {
              "outlinewidth": 0,
              "ticks": ""
             }
            },
            "type": "scatterternary"
           }
          ],
          "surface": [
           {
            "colorbar": {
             "outlinewidth": 0,
             "ticks": ""
            },
            "colorscale": [
             [
              0,
              "#0d0887"
             ],
             [
              0.1111111111111111,
              "#46039f"
             ],
             [
              0.2222222222222222,
              "#7201a8"
             ],
             [
              0.3333333333333333,
              "#9c179e"
             ],
             [
              0.4444444444444444,
              "#bd3786"
             ],
             [
              0.5555555555555556,
              "#d8576b"
             ],
             [
              0.6666666666666666,
              "#ed7953"
             ],
             [
              0.7777777777777778,
              "#fb9f3a"
             ],
             [
              0.8888888888888888,
              "#fdca26"
             ],
             [
              1,
              "#f0f921"
             ]
            ],
            "type": "surface"
           }
          ],
          "table": [
           {
            "cells": {
             "fill": {
              "color": "#EBF0F8"
             },
             "line": {
              "color": "white"
             }
            },
            "header": {
             "fill": {
              "color": "#C8D4E3"
             },
             "line": {
              "color": "white"
             }
            },
            "type": "table"
           }
          ]
         },
         "layout": {
          "annotationdefaults": {
           "arrowcolor": "#2a3f5f",
           "arrowhead": 0,
           "arrowwidth": 1
          },
          "autotypenumbers": "strict",
          "coloraxis": {
           "colorbar": {
            "outlinewidth": 0,
            "ticks": ""
           }
          },
          "colorscale": {
           "diverging": [
            [
             0,
             "#8e0152"
            ],
            [
             0.1,
             "#c51b7d"
            ],
            [
             0.2,
             "#de77ae"
            ],
            [
             0.3,
             "#f1b6da"
            ],
            [
             0.4,
             "#fde0ef"
            ],
            [
             0.5,
             "#f7f7f7"
            ],
            [
             0.6,
             "#e6f5d0"
            ],
            [
             0.7,
             "#b8e186"
            ],
            [
             0.8,
             "#7fbc41"
            ],
            [
             0.9,
             "#4d9221"
            ],
            [
             1,
             "#276419"
            ]
           ],
           "sequential": [
            [
             0,
             "#0d0887"
            ],
            [
             0.1111111111111111,
             "#46039f"
            ],
            [
             0.2222222222222222,
             "#7201a8"
            ],
            [
             0.3333333333333333,
             "#9c179e"
            ],
            [
             0.4444444444444444,
             "#bd3786"
            ],
            [
             0.5555555555555556,
             "#d8576b"
            ],
            [
             0.6666666666666666,
             "#ed7953"
            ],
            [
             0.7777777777777778,
             "#fb9f3a"
            ],
            [
             0.8888888888888888,
             "#fdca26"
            ],
            [
             1,
             "#f0f921"
            ]
           ],
           "sequentialminus": [
            [
             0,
             "#0d0887"
            ],
            [
             0.1111111111111111,
             "#46039f"
            ],
            [
             0.2222222222222222,
             "#7201a8"
            ],
            [
             0.3333333333333333,
             "#9c179e"
            ],
            [
             0.4444444444444444,
             "#bd3786"
            ],
            [
             0.5555555555555556,
             "#d8576b"
            ],
            [
             0.6666666666666666,
             "#ed7953"
            ],
            [
             0.7777777777777778,
             "#fb9f3a"
            ],
            [
             0.8888888888888888,
             "#fdca26"
            ],
            [
             1,
             "#f0f921"
            ]
           ]
          },
          "colorway": [
           "#636efa",
           "#EF553B",
           "#00cc96",
           "#ab63fa",
           "#FFA15A",
           "#19d3f3",
           "#FF6692",
           "#B6E880",
           "#FF97FF",
           "#FECB52"
          ],
          "font": {
           "color": "#2a3f5f"
          },
          "geo": {
           "bgcolor": "white",
           "lakecolor": "white",
           "landcolor": "#E5ECF6",
           "showlakes": true,
           "showland": true,
           "subunitcolor": "white"
          },
          "hoverlabel": {
           "align": "left"
          },
          "hovermode": "closest",
          "mapbox": {
           "style": "light"
          },
          "paper_bgcolor": "white",
          "plot_bgcolor": "#E5ECF6",
          "polar": {
           "angularaxis": {
            "gridcolor": "white",
            "linecolor": "white",
            "ticks": ""
           },
           "bgcolor": "#E5ECF6",
           "radialaxis": {
            "gridcolor": "white",
            "linecolor": "white",
            "ticks": ""
           }
          },
          "scene": {
           "xaxis": {
            "backgroundcolor": "#E5ECF6",
            "gridcolor": "white",
            "gridwidth": 2,
            "linecolor": "white",
            "showbackground": true,
            "ticks": "",
            "zerolinecolor": "white"
           },
           "yaxis": {
            "backgroundcolor": "#E5ECF6",
            "gridcolor": "white",
            "gridwidth": 2,
            "linecolor": "white",
            "showbackground": true,
            "ticks": "",
            "zerolinecolor": "white"
           },
           "zaxis": {
            "backgroundcolor": "#E5ECF6",
            "gridcolor": "white",
            "gridwidth": 2,
            "linecolor": "white",
            "showbackground": true,
            "ticks": "",
            "zerolinecolor": "white"
           }
          },
          "shapedefaults": {
           "line": {
            "color": "#2a3f5f"
           }
          },
          "ternary": {
           "aaxis": {
            "gridcolor": "white",
            "linecolor": "white",
            "ticks": ""
           },
           "baxis": {
            "gridcolor": "white",
            "linecolor": "white",
            "ticks": ""
           },
           "bgcolor": "#E5ECF6",
           "caxis": {
            "gridcolor": "white",
            "linecolor": "white",
            "ticks": ""
           }
          },
          "title": {
           "x": 0.05
          },
          "xaxis": {
           "automargin": true,
           "gridcolor": "white",
           "linecolor": "white",
           "ticks": "",
           "title": {
            "standoff": 15
           },
           "zerolinecolor": "white",
           "zerolinewidth": 2
          },
          "yaxis": {
           "automargin": true,
           "gridcolor": "white",
           "linecolor": "white",
           "ticks": "",
           "title": {
            "standoff": 15
           },
           "zerolinecolor": "white",
           "zerolinewidth": 2
          }
         }
        },
        "xaxis": {
         "anchor": "y",
         "domain": [
          0,
          1
         ],
         "title": {
          "text": "timestamp"
         }
        },
        "yaxis": {
         "anchor": "x",
         "domain": [
          0,
          1
         ],
         "title": {
          "text": "P2"
         }
        }
       }
      },
      "text/html": [
       "<div>                            <div id=\"93b46372-a8a6-4ae4-9c79-2b19b85813f5\" class=\"plotly-graph-div\" style=\"height:525px; width:100%;\"></div>            <script type=\"text/javascript\">                require([\"plotly\"], function(Plotly) {                    window.PLOTLYENV=window.PLOTLYENV || {};                                    if (document.getElementById(\"93b46372-a8a6-4ae4-9c79-2b19b85813f5\")) {                    Plotly.newPlot(                        \"93b46372-a8a6-4ae4-9c79-2b19b85813f5\",                        [{\"hovertemplate\":\"variable=y_test<br>timestamp=%{x}<br>P2=%{y}<extra></extra>\",\"legendgroup\":\"y_test\",\"line\":{\"color\":\"#636efa\",\"dash\":\"solid\"},\"marker\":{\"symbol\":\"circle\"},\"mode\":\"lines\",\"name\":\"y_test\",\"orientation\":\"v\",\"showlegend\":true,\"x\":[\"2024-01-25T22:00:00+03:00\",\"2024-01-25T23:00:00+03:00\",\"2024-01-26T00:00:00+03:00\",\"2024-01-26T01:00:00+03:00\",\"2024-01-26T02:00:00+03:00\",\"2024-01-26T03:00:00+03:00\",\"2024-01-26T04:00:00+03:00\",\"2024-01-26T05:00:00+03:00\",\"2024-01-26T06:00:00+03:00\",\"2024-01-26T07:00:00+03:00\",\"2024-01-26T08:00:00+03:00\",\"2024-01-26T09:00:00+03:00\",\"2024-01-26T10:00:00+03:00\",\"2024-01-26T11:00:00+03:00\",\"2024-01-26T12:00:00+03:00\",\"2024-01-26T13:00:00+03:00\",\"2024-01-26T14:00:00+03:00\",\"2024-01-26T15:00:00+03:00\",\"2024-01-26T16:00:00+03:00\",\"2024-01-26T17:00:00+03:00\",\"2024-01-26T18:00:00+03:00\",\"2024-01-26T19:00:00+03:00\",\"2024-01-26T20:00:00+03:00\",\"2024-01-26T21:00:00+03:00\",\"2024-01-26T22:00:00+03:00\",\"2024-01-26T23:00:00+03:00\",\"2024-01-27T00:00:00+03:00\",\"2024-01-27T01:00:00+03:00\",\"2024-01-27T02:00:00+03:00\",\"2024-01-27T03:00:00+03:00\",\"2024-01-27T04:00:00+03:00\",\"2024-01-27T05:00:00+03:00\",\"2024-01-27T06:00:00+03:00\",\"2024-01-27T07:00:00+03:00\",\"2024-01-27T08:00:00+03:00\",\"2024-01-27T09:00:00+03:00\",\"2024-01-27T10:00:00+03:00\",\"2024-01-27T11:00:00+03:00\",\"2024-01-27T12:00:00+03:00\",\"2024-01-27T13:00:00+03:00\",\"2024-01-27T14:00:00+03:00\",\"2024-01-27T15:00:00+03:00\",\"2024-01-27T16:00:00+03:00\",\"2024-01-27T17:00:00+03:00\",\"2024-01-27T18:00:00+03:00\",\"2024-01-27T19:00:00+03:00\",\"2024-01-27T20:00:00+03:00\",\"2024-01-27T21:00:00+03:00\",\"2024-01-27T22:00:00+03:00\",\"2024-01-27T23:00:00+03:00\",\"2024-01-28T00:00:00+03:00\",\"2024-01-28T01:00:00+03:00\",\"2024-01-28T02:00:00+03:00\",\"2024-01-28T03:00:00+03:00\",\"2024-01-28T04:00:00+03:00\",\"2024-01-28T05:00:00+03:00\",\"2024-01-28T06:00:00+03:00\",\"2024-01-28T07:00:00+03:00\",\"2024-01-28T08:00:00+03:00\",\"2024-01-28T09:00:00+03:00\",\"2024-01-28T10:00:00+03:00\",\"2024-01-28T11:00:00+03:00\",\"2024-01-28T12:00:00+03:00\",\"2024-01-28T13:00:00+03:00\",\"2024-01-28T14:00:00+03:00\",\"2024-01-28T15:00:00+03:00\",\"2024-01-28T16:00:00+03:00\",\"2024-01-28T17:00:00+03:00\",\"2024-01-28T18:00:00+03:00\",\"2024-01-28T19:00:00+03:00\",\"2024-01-28T20:00:00+03:00\",\"2024-01-28T21:00:00+03:00\",\"2024-01-28T22:00:00+03:00\",\"2024-01-28T23:00:00+03:00\",\"2024-01-29T00:00:00+03:00\",\"2024-01-29T01:00:00+03:00\",\"2024-01-29T02:00:00+03:00\",\"2024-01-29T03:00:00+03:00\",\"2024-01-29T04:00:00+03:00\",\"2024-01-29T05:00:00+03:00\",\"2024-01-29T06:00:00+03:00\",\"2024-01-29T07:00:00+03:00\",\"2024-01-29T08:00:00+03:00\",\"2024-01-29T09:00:00+03:00\",\"2024-01-29T10:00:00+03:00\",\"2024-01-29T11:00:00+03:00\",\"2024-01-29T12:00:00+03:00\",\"2024-01-29T13:00:00+03:00\",\"2024-01-29T14:00:00+03:00\",\"2024-01-29T15:00:00+03:00\",\"2024-01-29T16:00:00+03:00\",\"2024-01-29T17:00:00+03:00\",\"2024-01-29T18:00:00+03:00\",\"2024-01-29T19:00:00+03:00\",\"2024-01-29T20:00:00+03:00\",\"2024-01-29T21:00:00+03:00\",\"2024-01-29T22:00:00+03:00\",\"2024-01-29T23:00:00+03:00\",\"2024-01-30T00:00:00+03:00\",\"2024-01-30T01:00:00+03:00\",\"2024-01-30T02:00:00+03:00\",\"2024-01-30T03:00:00+03:00\",\"2024-01-30T04:00:00+03:00\",\"2024-01-30T05:00:00+03:00\",\"2024-01-30T06:00:00+03:00\",\"2024-01-30T07:00:00+03:00\",\"2024-01-30T08:00:00+03:00\",\"2024-01-30T09:00:00+03:00\",\"2024-01-30T10:00:00+03:00\",\"2024-01-30T11:00:00+03:00\",\"2024-01-30T12:00:00+03:00\",\"2024-01-30T13:00:00+03:00\",\"2024-01-30T14:00:00+03:00\",\"2024-01-30T15:00:00+03:00\",\"2024-01-30T16:00:00+03:00\",\"2024-01-30T17:00:00+03:00\",\"2024-01-30T18:00:00+03:00\",\"2024-01-30T19:00:00+03:00\",\"2024-01-30T20:00:00+03:00\",\"2024-01-30T21:00:00+03:00\",\"2024-01-30T22:00:00+03:00\",\"2024-01-30T23:00:00+03:00\",\"2024-01-31T00:00:00+03:00\",\"2024-01-31T01:00:00+03:00\",\"2024-01-31T02:00:00+03:00\",\"2024-01-31T03:00:00+03:00\",\"2024-01-31T04:00:00+03:00\",\"2024-01-31T05:00:00+03:00\",\"2024-01-31T06:00:00+03:00\",\"2024-01-31T07:00:00+03:00\",\"2024-01-31T08:00:00+03:00\",\"2024-01-31T09:00:00+03:00\",\"2024-01-31T10:00:00+03:00\",\"2024-01-31T11:00:00+03:00\",\"2024-01-31T12:00:00+03:00\",\"2024-01-31T13:00:00+03:00\",\"2024-01-31T14:00:00+03:00\",\"2024-01-31T15:00:00+03:00\",\"2024-01-31T16:00:00+03:00\",\"2024-01-31T17:00:00+03:00\",\"2024-01-31T18:00:00+03:00\",\"2024-01-31T19:00:00+03:00\",\"2024-01-31T20:00:00+03:00\",\"2024-01-31T21:00:00+03:00\",\"2024-01-31T22:00:00+03:00\",\"2024-01-31T23:00:00+03:00\",\"2024-02-01T00:00:00+03:00\",\"2024-02-01T01:00:00+03:00\",\"2024-02-01T02:00:00+03:00\"],\"xaxis\":\"x\",\"y\":[20.490925925925925,30.20884955752212,28.166517857142857,22.624311926605507,22.447619047619046,27.50190476190476,33.31351351351351,40.535585585585586,50.77449541284404,45.33783783783784,36.35825688073395,38.448113207547166,31.574,29.22835051546392,26.080978260869564,20.849456521739132,22.59263157894737,18.981976744186046,18.76578947368421,19.10430107526882,24.83952380952381,29.844144144144142,25.50462962962963,28.35970873786408,30.616999999999997,35.2828431372549,20.046728971962615,13.218468468468469,22.428899082568808,19.31743119266055,18.415625000000002,24.31858407079646,34.81830357142857,37.083,31.261574074074073,32.218,24.144949494949493,23.35473684210526,19.556632653061225,16.095698924731185,16.913541666666667,16.522727272727273,16.964356435643566,14.627604166666666,22.53194444444444,27.07098214285714,33.44120370370371,24.176960784313728,27.444791666666664,22.543564356435645,25.175,19.128125,18.739732142857143,22.74099099099099,16.429166666666667,13.848269230769231,18.642990654205608,39.08069306930693,28.076666666666668,22.602450980392156,18.498058252427185,16.068947368421053,15.940721649484535,10.43157894736842,11.343939393939394,11.385204081632653,10.594196428571427,10.725892857142856,13.340825688073396,20.25,18.58411214953271,19.088181818181816,15.21111111111111,16.667727272727273,15.868918918918919,26.477678571428573,15.183185840707965,13.215446428571429,15.024504504504504,23.71637168141593,45.57641509433962,51.05049019607843,40.96190476190476,25.45050505050505,23.23611111111111,17.73777777777778,18.301648351648353,18.238690476190477,15.480113636363637,13.326630434782608,14.945698924731182,16.214285714285715,21.09864864864865,24.399553571428573,26.464732142857144,25.555405405405406,19.25714285714286,15.600925925925926,14.389732142857143,20.322566371681415,15.039732142857144,22.859174311926605,14.50373831775701,22.489047619047618,30.691509433962267,47.5811320754717,34.953603603603604,24.380357142857143,18.678440366972477,21.991176470588233,19.924500000000002,17.257920792079208,15.341284403669725,18.85141509433962,18.336486486486486,18.26126126126126,18.39203539823009,28.220982142857142,26.85462962962963,24.054205607476636,17.244545454545456,11.357227722772276,12.577619047619049,11.637727272727274,11.914545454545454,12.977289719626167,12.382142857142856,17.115887850467292,41.27252252252252,44.11915887850467,38.72889908256881,26.32175925925926,23.354761904761904,24.61767676767677,18.00764705882353,17.49888888888889,18.222872340425532,20.588461538461537,16.90858585858586,17.425462962962964,27.114090909090912,29.088349514563106,27.60728155339806,23.01201923076923,26.113571428571426,20.639150943396228,17.645370370370372,20.845673076923074,11.175471698113206],\"yaxis\":\"y\",\"type\":\"scatter\"},{\"hovertemplate\":\"variable=y_pred<br>timestamp=%{x}<br>P2=%{y}<extra></extra>\",\"legendgroup\":\"y_pred\",\"line\":{\"color\":\"#EF553B\",\"dash\":\"solid\"},\"marker\":{\"symbol\":\"circle\"},\"mode\":\"lines\",\"name\":\"y_pred\",\"orientation\":\"v\",\"showlegend\":true,\"x\":[\"2024-01-25T22:00:00+03:00\",\"2024-01-25T23:00:00+03:00\",\"2024-01-26T00:00:00+03:00\",\"2024-01-26T01:00:00+03:00\",\"2024-01-26T02:00:00+03:00\",\"2024-01-26T03:00:00+03:00\",\"2024-01-26T04:00:00+03:00\",\"2024-01-26T05:00:00+03:00\",\"2024-01-26T06:00:00+03:00\",\"2024-01-26T07:00:00+03:00\",\"2024-01-26T08:00:00+03:00\",\"2024-01-26T09:00:00+03:00\",\"2024-01-26T10:00:00+03:00\",\"2024-01-26T11:00:00+03:00\",\"2024-01-26T12:00:00+03:00\",\"2024-01-26T13:00:00+03:00\",\"2024-01-26T14:00:00+03:00\",\"2024-01-26T15:00:00+03:00\",\"2024-01-26T16:00:00+03:00\",\"2024-01-26T17:00:00+03:00\",\"2024-01-26T18:00:00+03:00\",\"2024-01-26T19:00:00+03:00\",\"2024-01-26T20:00:00+03:00\",\"2024-01-26T21:00:00+03:00\",\"2024-01-26T22:00:00+03:00\",\"2024-01-26T23:00:00+03:00\",\"2024-01-27T00:00:00+03:00\",\"2024-01-27T01:00:00+03:00\",\"2024-01-27T02:00:00+03:00\",\"2024-01-27T03:00:00+03:00\",\"2024-01-27T04:00:00+03:00\",\"2024-01-27T05:00:00+03:00\",\"2024-01-27T06:00:00+03:00\",\"2024-01-27T07:00:00+03:00\",\"2024-01-27T08:00:00+03:00\",\"2024-01-27T09:00:00+03:00\",\"2024-01-27T10:00:00+03:00\",\"2024-01-27T11:00:00+03:00\",\"2024-01-27T12:00:00+03:00\",\"2024-01-27T13:00:00+03:00\",\"2024-01-27T14:00:00+03:00\",\"2024-01-27T15:00:00+03:00\",\"2024-01-27T16:00:00+03:00\",\"2024-01-27T17:00:00+03:00\",\"2024-01-27T18:00:00+03:00\",\"2024-01-27T19:00:00+03:00\",\"2024-01-27T20:00:00+03:00\",\"2024-01-27T21:00:00+03:00\",\"2024-01-27T22:00:00+03:00\",\"2024-01-27T23:00:00+03:00\",\"2024-01-28T00:00:00+03:00\",\"2024-01-28T01:00:00+03:00\",\"2024-01-28T02:00:00+03:00\",\"2024-01-28T03:00:00+03:00\",\"2024-01-28T04:00:00+03:00\",\"2024-01-28T05:00:00+03:00\",\"2024-01-28T06:00:00+03:00\",\"2024-01-28T07:00:00+03:00\",\"2024-01-28T08:00:00+03:00\",\"2024-01-28T09:00:00+03:00\",\"2024-01-28T10:00:00+03:00\",\"2024-01-28T11:00:00+03:00\",\"2024-01-28T12:00:00+03:00\",\"2024-01-28T13:00:00+03:00\",\"2024-01-28T14:00:00+03:00\",\"2024-01-28T15:00:00+03:00\",\"2024-01-28T16:00:00+03:00\",\"2024-01-28T17:00:00+03:00\",\"2024-01-28T18:00:00+03:00\",\"2024-01-28T19:00:00+03:00\",\"2024-01-28T20:00:00+03:00\",\"2024-01-28T21:00:00+03:00\",\"2024-01-28T22:00:00+03:00\",\"2024-01-28T23:00:00+03:00\",\"2024-01-29T00:00:00+03:00\",\"2024-01-29T01:00:00+03:00\",\"2024-01-29T02:00:00+03:00\",\"2024-01-29T03:00:00+03:00\",\"2024-01-29T04:00:00+03:00\",\"2024-01-29T05:00:00+03:00\",\"2024-01-29T06:00:00+03:00\",\"2024-01-29T07:00:00+03:00\",\"2024-01-29T08:00:00+03:00\",\"2024-01-29T09:00:00+03:00\",\"2024-01-29T10:00:00+03:00\",\"2024-01-29T11:00:00+03:00\",\"2024-01-29T12:00:00+03:00\",\"2024-01-29T13:00:00+03:00\",\"2024-01-29T14:00:00+03:00\",\"2024-01-29T15:00:00+03:00\",\"2024-01-29T16:00:00+03:00\",\"2024-01-29T17:00:00+03:00\",\"2024-01-29T18:00:00+03:00\",\"2024-01-29T19:00:00+03:00\",\"2024-01-29T20:00:00+03:00\",\"2024-01-29T21:00:00+03:00\",\"2024-01-29T22:00:00+03:00\",\"2024-01-29T23:00:00+03:00\",\"2024-01-30T00:00:00+03:00\",\"2024-01-30T01:00:00+03:00\",\"2024-01-30T02:00:00+03:00\",\"2024-01-30T03:00:00+03:00\",\"2024-01-30T04:00:00+03:00\",\"2024-01-30T05:00:00+03:00\",\"2024-01-30T06:00:00+03:00\",\"2024-01-30T07:00:00+03:00\",\"2024-01-30T08:00:00+03:00\",\"2024-01-30T09:00:00+03:00\",\"2024-01-30T10:00:00+03:00\",\"2024-01-30T11:00:00+03:00\",\"2024-01-30T12:00:00+03:00\",\"2024-01-30T13:00:00+03:00\",\"2024-01-30T14:00:00+03:00\",\"2024-01-30T15:00:00+03:00\",\"2024-01-30T16:00:00+03:00\",\"2024-01-30T17:00:00+03:00\",\"2024-01-30T18:00:00+03:00\",\"2024-01-30T19:00:00+03:00\",\"2024-01-30T20:00:00+03:00\",\"2024-01-30T21:00:00+03:00\",\"2024-01-30T22:00:00+03:00\",\"2024-01-30T23:00:00+03:00\",\"2024-01-31T00:00:00+03:00\",\"2024-01-31T01:00:00+03:00\",\"2024-01-31T02:00:00+03:00\",\"2024-01-31T03:00:00+03:00\",\"2024-01-31T04:00:00+03:00\",\"2024-01-31T05:00:00+03:00\",\"2024-01-31T06:00:00+03:00\",\"2024-01-31T07:00:00+03:00\",\"2024-01-31T08:00:00+03:00\",\"2024-01-31T09:00:00+03:00\",\"2024-01-31T10:00:00+03:00\",\"2024-01-31T11:00:00+03:00\",\"2024-01-31T12:00:00+03:00\",\"2024-01-31T13:00:00+03:00\",\"2024-01-31T14:00:00+03:00\",\"2024-01-31T15:00:00+03:00\",\"2024-01-31T16:00:00+03:00\",\"2024-01-31T17:00:00+03:00\",\"2024-01-31T18:00:00+03:00\",\"2024-01-31T19:00:00+03:00\",\"2024-01-31T20:00:00+03:00\",\"2024-01-31T21:00:00+03:00\",\"2024-01-31T22:00:00+03:00\",\"2024-01-31T23:00:00+03:00\",\"2024-02-01T00:00:00+03:00\",\"2024-02-01T01:00:00+03:00\",\"2024-02-01T02:00:00+03:00\"],\"xaxis\":\"x\",\"y\":[24.868416729980027,22.448566944894495,29.902324654608147,28.335833062927044,24.084898218239633,23.94937277485019,27.826067276488782,32.283637142267594,37.82304838154617,45.6764084157673,41.506430357592386,34.61898985832832,36.22193337781955,30.949410536457904,29.150270762113443,26.736200524748533,22.7235639806833,24.060599032060036,21.29118579812453,21.125367708238976,21.385009948268014,25.783990871866457,29.622591463671977,26.294134583869972,28.48401266087534,30.21538067590174,33.794135312700206,22.107862840216168,16.87050954322459,23.935014349212317,21.54848316702389,20.856787583066414,25.38442418035528,33.43782819386393,35.17487605558422,30.709776305693495,31.44336584491994,25.25124449018111,24.645142417686895,21.731953401739393,19.077377955553175,19.704672619941647,19.404913544615972,19.74364812442055,17.95133261538042,24.014051311185703,27.495544737335155,32.38157696724116,25.27579751240499,27.78226088429071,24.022963915552033,26.041304917127846,21.403283168903677,21.10538143978186,24.17439238476074,19.333151497990876,17.35357387523064,21.03117962011114,36.70712931064939,28.26691618015166,24.06813062440409,20.920014823175414,19.0568592082721,18.95850862667264,14.732933653403805,15.432724469885986,15.464374953640819,14.857663106958075,14.958675762235014,16.964358919237803,22.26377402555095,20.986019138841755,21.372646295152194,18.398889063723267,19.516130190154783,18.903435117472398,27.040474164918034,18.37747006441291,16.86819160432781,18.255759678742805,24.922520443466894,41.68942182083364,45.888099546646885,38.150040027884714,26.252620417446277,24.55415513578511,20.336871071043262,20.769366200311744,20.721076795355362,18.605217053378823,16.95347099886832,18.195314904728114,19.168335368928844,22.9146971699906,25.446528706226008,27.03054410728064,26.333080180121094,21.502241329497018,18.697881450516626,17.768882073617497,22.319433256153225,18.267439450170794,24.26504033312692,17.856326103569735,23.98114895928985,30.272530257324355,43.22706249597987,33.54160485400048,25.43180482766022,21.058369952105934,23.5992761383091,22.014111831600033,19.968815317334567,18.498733456393005,21.191043531007757,20.79608744509468,20.738388843650192,20.83869409080127,28.37760778816022,27.32959990440374,25.181642898678472,19.958556281655575,15.442916768903984,16.378970764725537,15.658063106980821,15.870385793918553,16.685522705835012,16.229038308260236,19.859874439251204,38.38828737533771,40.57168976555263,36.43729933047188,26.920882283027073,24.645161641028963,25.613831673128963,20.543863872228634,20.153640582224526,20.70894410571085,22.523377866596455,19.700871458902466,20.097322063762025,27.52860965025817,29.042888405615066,27.906892471437246,24.38227412044643,26.761199854260845,22.562257215432282,20.265993540872294,22.720662035572794],\"yaxis\":\"y\",\"type\":\"scatter\"}],                        {\"template\":{\"data\":{\"histogram2dcontour\":[{\"type\":\"histogram2dcontour\",\"colorbar\":{\"outlinewidth\":0,\"ticks\":\"\"},\"colorscale\":[[0.0,\"#0d0887\"],[0.1111111111111111,\"#46039f\"],[0.2222222222222222,\"#7201a8\"],[0.3333333333333333,\"#9c179e\"],[0.4444444444444444,\"#bd3786\"],[0.5555555555555556,\"#d8576b\"],[0.6666666666666666,\"#ed7953\"],[0.7777777777777778,\"#fb9f3a\"],[0.8888888888888888,\"#fdca26\"],[1.0,\"#f0f921\"]]}],\"choropleth\":[{\"type\":\"choropleth\",\"colorbar\":{\"outlinewidth\":0,\"ticks\":\"\"}}],\"histogram2d\":[{\"type\":\"histogram2d\",\"colorbar\":{\"outlinewidth\":0,\"ticks\":\"\"},\"colorscale\":[[0.0,\"#0d0887\"],[0.1111111111111111,\"#46039f\"],[0.2222222222222222,\"#7201a8\"],[0.3333333333333333,\"#9c179e\"],[0.4444444444444444,\"#bd3786\"],[0.5555555555555556,\"#d8576b\"],[0.6666666666666666,\"#ed7953\"],[0.7777777777777778,\"#fb9f3a\"],[0.8888888888888888,\"#fdca26\"],[1.0,\"#f0f921\"]]}],\"heatmap\":[{\"type\":\"heatmap\",\"colorbar\":{\"outlinewidth\":0,\"ticks\":\"\"},\"colorscale\":[[0.0,\"#0d0887\"],[0.1111111111111111,\"#46039f\"],[0.2222222222222222,\"#7201a8\"],[0.3333333333333333,\"#9c179e\"],[0.4444444444444444,\"#bd3786\"],[0.5555555555555556,\"#d8576b\"],[0.6666666666666666,\"#ed7953\"],[0.7777777777777778,\"#fb9f3a\"],[0.8888888888888888,\"#fdca26\"],[1.0,\"#f0f921\"]]}],\"heatmapgl\":[{\"type\":\"heatmapgl\",\"colorbar\":{\"outlinewidth\":0,\"ticks\":\"\"},\"colorscale\":[[0.0,\"#0d0887\"],[0.1111111111111111,\"#46039f\"],[0.2222222222222222,\"#7201a8\"],[0.3333333333333333,\"#9c179e\"],[0.4444444444444444,\"#bd3786\"],[0.5555555555555556,\"#d8576b\"],[0.6666666666666666,\"#ed7953\"],[0.7777777777777778,\"#fb9f3a\"],[0.8888888888888888,\"#fdca26\"],[1.0,\"#f0f921\"]]}],\"contourcarpet\":[{\"type\":\"contourcarpet\",\"colorbar\":{\"outlinewidth\":0,\"ticks\":\"\"}}],\"contour\":[{\"type\":\"contour\",\"colorbar\":{\"outlinewidth\":0,\"ticks\":\"\"},\"colorscale\":[[0.0,\"#0d0887\"],[0.1111111111111111,\"#46039f\"],[0.2222222222222222,\"#7201a8\"],[0.3333333333333333,\"#9c179e\"],[0.4444444444444444,\"#bd3786\"],[0.5555555555555556,\"#d8576b\"],[0.6666666666666666,\"#ed7953\"],[0.7777777777777778,\"#fb9f3a\"],[0.8888888888888888,\"#fdca26\"],[1.0,\"#f0f921\"]]}],\"surface\":[{\"type\":\"surface\",\"colorbar\":{\"outlinewidth\":0,\"ticks\":\"\"},\"colorscale\":[[0.0,\"#0d0887\"],[0.1111111111111111,\"#46039f\"],[0.2222222222222222,\"#7201a8\"],[0.3333333333333333,\"#9c179e\"],[0.4444444444444444,\"#bd3786\"],[0.5555555555555556,\"#d8576b\"],[0.6666666666666666,\"#ed7953\"],[0.7777777777777778,\"#fb9f3a\"],[0.8888888888888888,\"#fdca26\"],[1.0,\"#f0f921\"]]}],\"mesh3d\":[{\"type\":\"mesh3d\",\"colorbar\":{\"outlinewidth\":0,\"ticks\":\"\"}}],\"scatter\":[{\"fillpattern\":{\"fillmode\":\"overlay\",\"size\":10,\"solidity\":0.2},\"type\":\"scatter\"}],\"parcoords\":[{\"type\":\"parcoords\",\"line\":{\"colorbar\":{\"outlinewidth\":0,\"ticks\":\"\"}}}],\"scatterpolargl\":[{\"type\":\"scatterpolargl\",\"marker\":{\"colorbar\":{\"outlinewidth\":0,\"ticks\":\"\"}}}],\"bar\":[{\"error_x\":{\"color\":\"#2a3f5f\"},\"error_y\":{\"color\":\"#2a3f5f\"},\"marker\":{\"line\":{\"color\":\"#E5ECF6\",\"width\":0.5},\"pattern\":{\"fillmode\":\"overlay\",\"size\":10,\"solidity\":0.2}},\"type\":\"bar\"}],\"scattergeo\":[{\"type\":\"scattergeo\",\"marker\":{\"colorbar\":{\"outlinewidth\":0,\"ticks\":\"\"}}}],\"scatterpolar\":[{\"type\":\"scatterpolar\",\"marker\":{\"colorbar\":{\"outlinewidth\":0,\"ticks\":\"\"}}}],\"histogram\":[{\"marker\":{\"pattern\":{\"fillmode\":\"overlay\",\"size\":10,\"solidity\":0.2}},\"type\":\"histogram\"}],\"scattergl\":[{\"type\":\"scattergl\",\"marker\":{\"colorbar\":{\"outlinewidth\":0,\"ticks\":\"\"}}}],\"scatter3d\":[{\"type\":\"scatter3d\",\"line\":{\"colorbar\":{\"outlinewidth\":0,\"ticks\":\"\"}},\"marker\":{\"colorbar\":{\"outlinewidth\":0,\"ticks\":\"\"}}}],\"scattermapbox\":[{\"type\":\"scattermapbox\",\"marker\":{\"colorbar\":{\"outlinewidth\":0,\"ticks\":\"\"}}}],\"scatterternary\":[{\"type\":\"scatterternary\",\"marker\":{\"colorbar\":{\"outlinewidth\":0,\"ticks\":\"\"}}}],\"scattercarpet\":[{\"type\":\"scattercarpet\",\"marker\":{\"colorbar\":{\"outlinewidth\":0,\"ticks\":\"\"}}}],\"carpet\":[{\"aaxis\":{\"endlinecolor\":\"#2a3f5f\",\"gridcolor\":\"white\",\"linecolor\":\"white\",\"minorgridcolor\":\"white\",\"startlinecolor\":\"#2a3f5f\"},\"baxis\":{\"endlinecolor\":\"#2a3f5f\",\"gridcolor\":\"white\",\"linecolor\":\"white\",\"minorgridcolor\":\"white\",\"startlinecolor\":\"#2a3f5f\"},\"type\":\"carpet\"}],\"table\":[{\"cells\":{\"fill\":{\"color\":\"#EBF0F8\"},\"line\":{\"color\":\"white\"}},\"header\":{\"fill\":{\"color\":\"#C8D4E3\"},\"line\":{\"color\":\"white\"}},\"type\":\"table\"}],\"barpolar\":[{\"marker\":{\"line\":{\"color\":\"#E5ECF6\",\"width\":0.5},\"pattern\":{\"fillmode\":\"overlay\",\"size\":10,\"solidity\":0.2}},\"type\":\"barpolar\"}],\"pie\":[{\"automargin\":true,\"type\":\"pie\"}]},\"layout\":{\"autotypenumbers\":\"strict\",\"colorway\":[\"#636efa\",\"#EF553B\",\"#00cc96\",\"#ab63fa\",\"#FFA15A\",\"#19d3f3\",\"#FF6692\",\"#B6E880\",\"#FF97FF\",\"#FECB52\"],\"font\":{\"color\":\"#2a3f5f\"},\"hovermode\":\"closest\",\"hoverlabel\":{\"align\":\"left\"},\"paper_bgcolor\":\"white\",\"plot_bgcolor\":\"#E5ECF6\",\"polar\":{\"bgcolor\":\"#E5ECF6\",\"angularaxis\":{\"gridcolor\":\"white\",\"linecolor\":\"white\",\"ticks\":\"\"},\"radialaxis\":{\"gridcolor\":\"white\",\"linecolor\":\"white\",\"ticks\":\"\"}},\"ternary\":{\"bgcolor\":\"#E5ECF6\",\"aaxis\":{\"gridcolor\":\"white\",\"linecolor\":\"white\",\"ticks\":\"\"},\"baxis\":{\"gridcolor\":\"white\",\"linecolor\":\"white\",\"ticks\":\"\"},\"caxis\":{\"gridcolor\":\"white\",\"linecolor\":\"white\",\"ticks\":\"\"}},\"coloraxis\":{\"colorbar\":{\"outlinewidth\":0,\"ticks\":\"\"}},\"colorscale\":{\"sequential\":[[0.0,\"#0d0887\"],[0.1111111111111111,\"#46039f\"],[0.2222222222222222,\"#7201a8\"],[0.3333333333333333,\"#9c179e\"],[0.4444444444444444,\"#bd3786\"],[0.5555555555555556,\"#d8576b\"],[0.6666666666666666,\"#ed7953\"],[0.7777777777777778,\"#fb9f3a\"],[0.8888888888888888,\"#fdca26\"],[1.0,\"#f0f921\"]],\"sequentialminus\":[[0.0,\"#0d0887\"],[0.1111111111111111,\"#46039f\"],[0.2222222222222222,\"#7201a8\"],[0.3333333333333333,\"#9c179e\"],[0.4444444444444444,\"#bd3786\"],[0.5555555555555556,\"#d8576b\"],[0.6666666666666666,\"#ed7953\"],[0.7777777777777778,\"#fb9f3a\"],[0.8888888888888888,\"#fdca26\"],[1.0,\"#f0f921\"]],\"diverging\":[[0,\"#8e0152\"],[0.1,\"#c51b7d\"],[0.2,\"#de77ae\"],[0.3,\"#f1b6da\"],[0.4,\"#fde0ef\"],[0.5,\"#f7f7f7\"],[0.6,\"#e6f5d0\"],[0.7,\"#b8e186\"],[0.8,\"#7fbc41\"],[0.9,\"#4d9221\"],[1,\"#276419\"]]},\"xaxis\":{\"gridcolor\":\"white\",\"linecolor\":\"white\",\"ticks\":\"\",\"title\":{\"standoff\":15},\"zerolinecolor\":\"white\",\"automargin\":true,\"zerolinewidth\":2},\"yaxis\":{\"gridcolor\":\"white\",\"linecolor\":\"white\",\"ticks\":\"\",\"title\":{\"standoff\":15},\"zerolinecolor\":\"white\",\"automargin\":true,\"zerolinewidth\":2},\"scene\":{\"xaxis\":{\"backgroundcolor\":\"#E5ECF6\",\"gridcolor\":\"white\",\"linecolor\":\"white\",\"showbackground\":true,\"ticks\":\"\",\"zerolinecolor\":\"white\",\"gridwidth\":2},\"yaxis\":{\"backgroundcolor\":\"#E5ECF6\",\"gridcolor\":\"white\",\"linecolor\":\"white\",\"showbackground\":true,\"ticks\":\"\",\"zerolinecolor\":\"white\",\"gridwidth\":2},\"zaxis\":{\"backgroundcolor\":\"#E5ECF6\",\"gridcolor\":\"white\",\"linecolor\":\"white\",\"showbackground\":true,\"ticks\":\"\",\"zerolinecolor\":\"white\",\"gridwidth\":2}},\"shapedefaults\":{\"line\":{\"color\":\"#2a3f5f\"}},\"annotationdefaults\":{\"arrowcolor\":\"#2a3f5f\",\"arrowhead\":0,\"arrowwidth\":1},\"geo\":{\"bgcolor\":\"white\",\"landcolor\":\"#E5ECF6\",\"subunitcolor\":\"white\",\"showland\":true,\"showlakes\":true,\"lakecolor\":\"white\"},\"title\":{\"x\":0.05},\"mapbox\":{\"style\":\"light\"}}},\"xaxis\":{\"anchor\":\"y\",\"domain\":[0.0,1.0],\"title\":{\"text\":\"timestamp\"}},\"yaxis\":{\"anchor\":\"x\",\"domain\":[0.0,1.0],\"title\":{\"text\":\"P2\"}},\"legend\":{\"title\":{\"text\":\"variable\"},\"tracegroupgap\":0},\"margin\":{\"t\":60}},                        {\"responsive\": true}                    ).then(function(){\n",
       "                            \n",
       "var gd = document.getElementById('93b46372-a8a6-4ae4-9c79-2b19b85813f5');\n",
       "var x = new MutationObserver(function (mutations, observer) {{\n",
       "        var display = window.getComputedStyle(gd).display;\n",
       "        if (!display || display === 'none') {{\n",
       "            console.log([gd, 'removed!']);\n",
       "            Plotly.purge(gd);\n",
       "            observer.disconnect();\n",
       "        }}\n",
       "}});\n",
       "\n",
       "// Listen for the removal of the full notebook cells\n",
       "var notebookContainer = gd.closest('#notebook-container');\n",
       "if (notebookContainer) {{\n",
       "    x.observe(notebookContainer, {childList: true});\n",
       "}}\n",
       "\n",
       "// Listen for the clearing of the current output cell\n",
       "var outputEl = gd.closest('.output');\n",
       "if (outputEl) {{\n",
       "    x.observe(outputEl, {childList: true});\n",
       "}}\n",
       "\n",
       "                        })                };                });            </script>        </div>"
      ]
     },
     "metadata": {},
     "output_type": "display_data"
    }
   ],
   "source": [
    "# time series line plot \n",
    "fig = px.line(df_pred_test, labels = {\"value\":\"P2\"})\n",
    "fig.show()"
   ]
  },
  {
   "cell_type": "code",
   "execution_count": null,
   "id": "ed2fa44f",
   "metadata": {},
   "outputs": [],
   "source": [
    "# finish"
   ]
  }
 ],
 "metadata": {
  "kernelspec": {
   "display_name": "Python 3 (ipykernel)",
   "language": "python",
   "name": "python3"
  },
  "language_info": {
   "codemirror_mode": {
    "name": "ipython",
    "version": 3
   },
   "file_extension": ".py",
   "mimetype": "text/x-python",
   "name": "python",
   "nbconvert_exporter": "python",
   "pygments_lexer": "ipython3",
   "version": "3.11.5"
  }
 },
 "nbformat": 4,
 "nbformat_minor": 5
}
